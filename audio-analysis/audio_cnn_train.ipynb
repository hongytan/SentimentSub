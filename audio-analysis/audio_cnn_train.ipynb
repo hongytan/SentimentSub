{
 "cells": [
  {
   "cell_type": "code",
   "execution_count": null,
   "metadata": {},
   "outputs": [],
   "source": [
    "import librosa\n",
    "import os\n",
    "import numpy as np\n",
    "import matplotlib.pyplot as plt\n",
    "import seaborn as sns\n",
    "from sklearn.model_selection import train_test_split\n",
    "from sklearn.preprocessing import StandardScaler, OneHotEncoder"
   ]
  },
  {
   "attachments": {},
   "cell_type": "markdown",
   "metadata": {},
   "source": [
    "0 --> Angry\n",
    "1 --> Calm\n",
    "2 --> Disgust\n",
    "3 --> Fearful\n",
    "4 --> Happy\n",
    "5 --> Neutral\n",
    "6 --> Sad\n",
    "7 --> Surprised"
   ]
  },
  {
   "cell_type": "code",
   "execution_count": null,
   "metadata": {},
   "outputs": [],
   "source": [
    "# Paths\n",
    "dataset_path = '/Users/hongtan/Downloads/archive/audio_speech_actors_01-24'\n",
    "input_file = '/Users/hongtan/Downloads/inside_out_clip.mp4'\n",
    "output_srt_file = \"/Users/hongtan/Desktop/sentimentsub/website/sentsub/media/captions/audio.srt\"\n",
    "output_wav_file = \"/Users/hongtan/Downloads/output.wav\"\n",
    "output_folder = \"/Users/hongtan/Desktop/segmented-audio/\"\n",
    "insane_input_file = '/Users/hongtan/Desktop/sentimentsub/speech-to-text/audio-test-files/insane.wav'"
   ]
  },
  {
   "cell_type": "code",
   "execution_count": null,
   "metadata": {},
   "outputs": [],
   "source": [
    "# Function to extract features from each audio file\n",
    "def extract_features(file_path):\n",
    "    audio, sampling_rate = librosa.load(file_path, sr=22050, duration=None)\n",
    "#     mfccs = librosa.feature.mfcc(y=audio, sr=sampling_rate, n_mfcc=30)\n",
    "#     features = np.mean(mfccs.T, axis=0)\n",
    "#     features=np.mean(librosa.feature.melspectrogram(y=audio, sr=sampling_rate).T,axis=0)\n",
    "    \n",
    "    features=np.array([])\n",
    "    \n",
    "    stft=np.abs(librosa.stft(audio))\n",
    "    \n",
    "    mfccs=np.mean(librosa.feature.mfcc(y=audio, sr=sampling_rate, n_mfcc=30).T, axis=0)\n",
    "\n",
    "    chroma=np.mean(librosa.feature.chroma_stft(S=stft, sr=sampling_rate).T,axis=0)\n",
    "\n",
    "    mel=np.mean(librosa.feature.melspectrogram(y=audio, sr=sampling_rate).T,axis=0)\n",
    "    \n",
    "    features=np.hstack((mfccs, chroma, mel))\n",
    "    \n",
    "    return features\n",
    "\n",
    "# Function to preprocess the data\n",
    "def preprocess_data(dataset_path):\n",
    "    X = []\n",
    "    y = []\n",
    "    for folder in os.listdir(dataset_path):\n",
    "        for file in os.listdir(os.path.join(dataset_path, folder)):\n",
    "            if file.endswith('.wav'):\n",
    "                \n",
    "                emotion = file.split('-')[2]\n",
    "                if int(emotion) == 1:\n",
    "                    label = 'Neutral'\n",
    "                elif int(emotion) == 2:\n",
    "                    label = 'Neutral' # Calm\n",
    "                elif int(emotion) == 3:\n",
    "                    label = 'Happy'\n",
    "                elif int(emotion) == 4:\n",
    "                    label = 'Sad'\n",
    "                elif int(emotion) == 5:\n",
    "                    label = 'Angry'\n",
    "                elif int(emotion) == 6:\n",
    "                    label = 'Fearful'\n",
    "                elif int(emotion) == 7:\n",
    "                    label = 'Disgust'\n",
    "                elif int(emotion) == 8:\n",
    "                    label = 'Surprised'\n",
    "                else:\n",
    "                    label = 'UNK'\n",
    "                    \n",
    "                file_path = os.path.join(dataset_path, folder, file)\n",
    "                features = extract_features(file_path)\n",
    "                X.append(features)\n",
    "                y.append(label)\n",
    "    return np.array(X), np.array(y)"
   ]
  },
  {
   "cell_type": "code",
   "execution_count": null,
   "metadata": {},
   "outputs": [],
   "source": [
    "# Preprocess the data\n",
    "X, y = preprocess_data(dataset_path)\n",
    "\n",
    "# Print the shape of the feature matrix and the label array\n",
    "print(\"Shape of X:\", X.shape)\n",
    "print(\"Shape of y:\", y.shape)"
   ]
  },
  {
   "cell_type": "code",
   "execution_count": null,
   "metadata": {},
   "outputs": [],
   "source": [
    "# One-Hot encode y\n",
    "OHE = OneHotEncoder()\n",
    "\n",
    "y = np.array(y).reshape(-1,1)\n",
    "y = OHE.fit_transform(y).toarray()"
   ]
  },
  {
   "cell_type": "code",
   "execution_count": null,
   "metadata": {},
   "outputs": [],
   "source": [
    "# Split data into training and testing sets\n",
    "X_train, X_test, y_train, y_test = train_test_split(X, y, random_state=29, test_size=0.20, shuffle=True)\n",
    "\n",
    "print('X_train: {}'.format(X_train.shape))\n",
    "print('y_train: {}'.format(y_train.shape))\n",
    "print('X_test: {}'.format(X_test.shape))\n",
    "print('y_test: {}'.format(y_test.shape))"
   ]
  },
  {
   "cell_type": "code",
   "execution_count": null,
   "metadata": {},
   "outputs": [],
   "source": [
    "# Normalize data\n",
    "SS = StandardScaler()\n",
    "\n",
    "X_train = SS.fit_transform(X_train)\n",
    "X_test = SS.transform(X_test)\n",
    "\n",
    "print('X_train: {}'.format(X_train.shape))\n",
    "print('y_train: {}'.format(y_train.shape))\n",
    "print('X_test: {}'.format(X_test.shape))\n",
    "print('y_test: {}'.format(y_test.shape))"
   ]
  },
  {
   "cell_type": "code",
   "execution_count": null,
   "metadata": {},
   "outputs": [],
   "source": [
    "X_train = np.expand_dims(X_train, axis=2)\n",
    "X_test = np.expand_dims(X_test, axis=2)\n",
    "\n",
    "print('X_train: {}'.format(X_train.shape))\n",
    "print('X_test: {}'.format(X_test.shape))"
   ]
  },
  {
   "cell_type": "code",
   "execution_count": null,
   "metadata": {},
   "outputs": [],
   "source": [
    "# Function to plot Training Accuracy vs Validation Accuracy\n",
    "def TrainVal_plot(history):\n",
    "    val_acc = history.history['val_accuracy']\n",
    "    train_acc = history.history['accuracy']\n",
    "\n",
    "    epochs = range(0, 100)\n",
    "    plt.plot(epochs, val_acc, 'b', label='Validation Accuracy')\n",
    "    plt.plot(epochs, train_acc, 'r', label='Training Accuracy')\n",
    "    plt.title('Training vs. Validation')\n",
    "    plt.xlabel('Epochs')\n",
    "    plt.ylabel('Accuracy')\n",
    "    plt.legend()\n",
    "    plt.show()"
   ]
  },
  {
   "cell_type": "code",
   "execution_count": null,
   "metadata": {},
   "outputs": [],
   "source": [
    "# Import necessary libraries\n",
    "from tensorflow.keras.models import Sequential\n",
    "from tensorflow.keras.layers import Conv1D, MaxPooling1D, Flatten, Dense, Dropout, BatchNormalization\n",
    "from tensorflow.keras.optimizers import Adam\n",
    "\n",
    "# Define input shape\n",
    "input_shape = (X_train.shape[1], 1)\n",
    "\n",
    "# Create model\n",
    "model = Sequential()\n",
    "\n",
    "model.add(Conv1D(filters=8, kernel_size=3, activation='relu', input_shape=input_shape ,use_bias=False))\n",
    "model.add(BatchNormalization())\n",
    "model.add(MaxPooling1D())\n",
    "\n",
    "model.add(Conv1D(filters=16, kernel_size=3, activation='relu', use_bias=False))\n",
    "model.add(BatchNormalization())\n",
    "model.add(MaxPooling1D())\n",
    "\n",
    "model.add(Conv1D(filters=32, kernel_size=3, activation='relu', use_bias=False))\n",
    "model.add(BatchNormalization())\n",
    "model.add(MaxPooling1D())\n",
    "\n",
    "model.add(Flatten())\n",
    "\n",
    "model.add(Dense(units=128, activation='relu', use_bias=False))\n",
    "model.add(BatchNormalization())\n",
    "\n",
    "model.add(Dropout(0.5))\n",
    "\n",
    "model.add(Dense(units=7, activation='softmax'))\n",
    "\n",
    "# adam = Adam(learning_rate=0.01)\n",
    "# Compile model with appropriate loss function, optimizer and metrics\n",
    "model.compile(loss='categorical_crossentropy', optimizer='adam', metrics=['accuracy'])\n",
    "\n",
    "# Print model summary\n",
    "model.summary()"
   ]
  },
  {
   "cell_type": "code",
   "execution_count": null,
   "metadata": {},
   "outputs": [],
   "source": [
    "history = model.fit(X_train, y_train, batch_size=32, epochs=100, validation_data=(X_test, y_test),)"
   ]
  },
  {
   "cell_type": "code",
   "execution_count": null,
   "metadata": {},
   "outputs": [],
   "source": [
    "print(\"Accuracy of our model on Train data : \" , round(model.evaluate(X_train,y_train)[1]*100,2) , \"%\")"
   ]
  },
  {
   "cell_type": "code",
   "execution_count": null,
   "metadata": {},
   "outputs": [],
   "source": [
    "print(\"Accuracy of our model on test data : \" , round(model.evaluate(X_test,y_test)[1]*100,2) , \"%\")"
   ]
  },
  {
   "cell_type": "code",
   "execution_count": null,
   "metadata": {},
   "outputs": [],
   "source": [
    "TrainVal_plot(history)"
   ]
  }
 ],
 "metadata": {
  "language_info": {
   "name": "python"
  },
  "orig_nbformat": 4
 },
 "nbformat": 4,
 "nbformat_minor": 2
}
