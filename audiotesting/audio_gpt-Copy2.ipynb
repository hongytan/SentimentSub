{
 "cells": [
  {
   "cell_type": "code",
   "execution_count": 4,
   "id": "3ed8dbac",
   "metadata": {},
   "outputs": [],
   "source": [
    "import librosa\n",
    "import os\n",
    "import numpy as np\n",
    "import matplotlib.pyplot as plt\n",
    "import seaborn as sns\n",
    "from sklearn.model_selection import train_test_split\n",
    "from sklearn.preprocessing import StandardScaler, OneHotEncoder"
   ]
  },
  {
   "cell_type": "code",
   "execution_count": 5,
   "id": "52244624",
   "metadata": {},
   "outputs": [],
   "source": [
    "dataset_path = '/Users/hongtan/Downloads/archive/audio_speech_actors_01-24'\n",
    "input_file = '/Users/hongtan/Downloads/inside_out_clip.mp4'\n",
    "output_srt_file = \"/Users/hongtan/Desktop/sentimentsub/website/sentsub/media/captions/audio.srt\"\n",
    "output_wav_file = \"/Users/hongtan/Downloads/output.wav\"\n",
    "output_folder = \"/Users/hongtan/Desktop/segmented-audio/\"\n",
    "insane_input_file = '/Users/hongtan/Desktop/sentimentsub/speech-to-text/audio-test-files/insane.wav'"
   ]
  },
  {
   "cell_type": "code",
   "execution_count": 2,
   "id": "7afc656f",
   "metadata": {},
   "outputs": [],
   "source": [
    "# Function to extract features from each audio file\n",
    "def extract_features(file_path):\n",
    "    audio, sampling_rate = librosa.load(file_path, sr=22050, duration=None)\n",
    "#     mfccs = librosa.feature.mfcc(y=audio, sr=sampling_rate, n_mfcc=30)\n",
    "#     features = np.mean(mfccs.T, axis=0)\n",
    "#     features=np.mean(librosa.feature.melspectrogram(y=audio, sr=sampling_rate).T,axis=0)\n",
    "    \n",
    "    features=np.array([])\n",
    "    \n",
    "    stft=np.abs(librosa.stft(audio))\n",
    "    \n",
    "    mfccs=np.mean(librosa.feature.mfcc(y=audio, sr=sampling_rate, n_mfcc=30).T, axis=0)\n",
    "\n",
    "    chroma=np.mean(librosa.feature.chroma_stft(S=stft, sr=sampling_rate).T,axis=0)\n",
    "\n",
    "    mel=np.mean(librosa.feature.melspectrogram(y=audio, sr=sampling_rate).T,axis=0)\n",
    "    \n",
    "    features=np.hstack((mfccs, chroma, mel))\n",
    "    \n",
    "    return features\n",
    "\n",
    "# Function to preprocess the data\n",
    "def preprocess_data(dataset_path):\n",
    "    X = []\n",
    "    y = []\n",
    "    for folder in os.listdir(dataset_path):\n",
    "        for file in os.listdir(os.path.join(dataset_path, folder)):\n",
    "            if file.endswith('.wav'):\n",
    "                \n",
    "                emotion = file.split('-')[2]\n",
    "                if int(emotion) == 1:\n",
    "                    label = 'Neutral'\n",
    "                elif int(emotion) == 2:\n",
    "                    label = 'Neutral' # Calm\n",
    "                elif int(emotion) == 3:\n",
    "                    label = 'Happy'\n",
    "                elif int(emotion) == 4:\n",
    "                    label = 'Sad'\n",
    "                elif int(emotion) == 5:\n",
    "                    label = 'Angry'\n",
    "                elif int(emotion) == 6:\n",
    "                    label = 'Fearful'\n",
    "                elif int(emotion) == 7:\n",
    "                    label = 'Disgust'\n",
    "                elif int(emotion) == 8:\n",
    "                    label = 'Surprised'\n",
    "                else:\n",
    "                    label = 'UNK'\n",
    "                    \n",
    "                file_path = os.path.join(dataset_path, folder, file)\n",
    "                features = extract_features(file_path)\n",
    "                X.append(features)\n",
    "                y.append(label)\n",
    "    return np.array(X), np.array(y)"
   ]
  },
  {
   "cell_type": "code",
   "execution_count": 4,
   "id": "e16718f4",
   "metadata": {
    "scrolled": false
   },
   "outputs": [
    {
     "name": "stdout",
     "output_type": "stream",
     "text": [
      "Shape of X: (15840, 170)\n",
      "Shape of y: (15840,)\n"
     ]
    }
   ],
   "source": [
    "# Preprocess the data\n",
    "X, y = preprocess_data(dataset_path)\n",
    "\n",
    "# Print the shape of the feature matrix and the label array\n",
    "print(\"Shape of X:\", X.shape)\n",
    "print(\"Shape of y:\", y.shape)"
   ]
  },
  {
   "cell_type": "code",
   "execution_count": 5,
   "id": "35701426",
   "metadata": {},
   "outputs": [],
   "source": [
    "# One-Hot encode y\n",
    "OHE = OneHotEncoder()\n",
    "\n",
    "y = np.array(y).reshape(-1,1)\n",
    "y = OHE.fit_transform(y).toarray()"
   ]
  },
  {
   "cell_type": "code",
   "execution_count": 6,
   "id": "b2c97a8e",
   "metadata": {
    "scrolled": true
   },
   "outputs": [
    {
     "name": "stdout",
     "output_type": "stream",
     "text": [
      "X_train: (12672, 170)\n",
      "y_train: (12672, 7)\n",
      "X_test: (3168, 170)\n",
      "y_test: (3168, 7)\n"
     ]
    }
   ],
   "source": [
    "# Split data into training and testing sets\n",
    "X_train, X_test, y_train, y_test = train_test_split(X, y, random_state=29, test_size=0.20, shuffle=True)\n",
    "\n",
    "print('X_train: {}'.format(X_train.shape))\n",
    "print('y_train: {}'.format(y_train.shape))\n",
    "print('X_test: {}'.format(X_test.shape))\n",
    "print('y_test: {}'.format(y_test.shape))"
   ]
  },
  {
   "cell_type": "code",
   "execution_count": 7,
   "id": "dd7d5896",
   "metadata": {},
   "outputs": [
    {
     "name": "stdout",
     "output_type": "stream",
     "text": [
      "X_train: (12672, 170)\n",
      "y_train: (12672, 7)\n",
      "X_test: (3168, 170)\n",
      "y_test: (3168, 7)\n"
     ]
    }
   ],
   "source": [
    "# Normalize data\n",
    "SS = StandardScaler()\n",
    "\n",
    "X_train = SS.fit_transform(X_train)\n",
    "X_test = SS.transform(X_test)\n",
    "\n",
    "print('X_train: {}'.format(X_train.shape))\n",
    "print('y_train: {}'.format(y_train.shape))\n",
    "print('X_test: {}'.format(X_test.shape))\n",
    "print('y_test: {}'.format(y_test.shape))"
   ]
  },
  {
   "cell_type": "code",
   "execution_count": 8,
   "id": "101d7e26",
   "metadata": {
    "scrolled": true
   },
   "outputs": [
    {
     "name": "stdout",
     "output_type": "stream",
     "text": [
      "X_train: (12672, 170, 1)\n",
      "X_test: (3168, 170, 1)\n"
     ]
    }
   ],
   "source": [
    "X_train = np.expand_dims(X_train, axis=2)\n",
    "X_test = np.expand_dims(X_test, axis=2)\n",
    "\n",
    "print('X_train: {}'.format(X_train.shape))\n",
    "print('X_test: {}'.format(X_test.shape))"
   ]
  },
  {
   "cell_type": "code",
   "execution_count": 11,
   "id": "d694d767",
   "metadata": {},
   "outputs": [],
   "source": [
    "# Function to plot Training Accuracy vs Validation Accuracy\n",
    "def TrainVal_plot(history):\n",
    "    val_acc = history.history['val_accuracy']\n",
    "    train_acc = history.history['accuracy']\n",
    "\n",
    "    epochs = range(0, 100)\n",
    "    plt.plot(epochs, val_acc, 'b', label='Validation Accuracy')\n",
    "    plt.plot(epochs, train_acc, 'r', label='Training Accuracy')\n",
    "    plt.title('Training vs. Validation')\n",
    "    plt.xlabel('Epochs')\n",
    "    plt.ylabel('Accuracy')\n",
    "    plt.legend()\n",
    "    plt.show()"
   ]
  },
  {
   "cell_type": "code",
   "execution_count": 6,
   "id": "ce02c629",
   "metadata": {},
   "outputs": [
    {
     "name": "stdout",
     "output_type": "stream",
     "text": [
      "Metal device set to: Apple M1 Pro\n",
      "Model: \"sequential\"\n",
      "_________________________________________________________________\n",
      " Layer (type)                Output Shape              Param #   \n",
      "=================================================================\n",
      " conv1d (Conv1D)             (None, 168, 8)            24        \n",
      "                                                                 \n",
      " batch_normalization (BatchN  (None, 168, 8)           32        \n",
      " ormalization)                                                   \n",
      "                                                                 \n",
      " max_pooling1d (MaxPooling1D  (None, 84, 8)            0         \n",
      " )                                                               \n",
      "                                                                 \n",
      " conv1d_1 (Conv1D)           (None, 82, 16)            384       \n",
      "                                                                 \n",
      " batch_normalization_1 (Batc  (None, 82, 16)           64        \n",
      " hNormalization)                                                 \n",
      "                                                                 \n",
      " max_pooling1d_1 (MaxPooling  (None, 41, 16)           0         \n",
      " 1D)                                                             \n",
      "                                                                 \n",
      " conv1d_2 (Conv1D)           (None, 39, 32)            1536      \n",
      "                                                                 \n",
      " batch_normalization_2 (Batc  (None, 39, 32)           128       \n",
      " hNormalization)                                                 \n",
      "                                                                 \n",
      " max_pooling1d_2 (MaxPooling  (None, 19, 32)           0         \n",
      " 1D)                                                             \n",
      "                                                                 \n",
      " flatten (Flatten)           (None, 608)               0         \n",
      "                                                                 \n",
      " dense (Dense)               (None, 128)               77824     \n",
      "                                                                 \n",
      " batch_normalization_3 (Batc  (None, 128)              512       \n",
      " hNormalization)                                                 \n",
      "                                                                 \n",
      " dropout (Dropout)           (None, 128)               0         \n",
      "                                                                 \n",
      " dense_1 (Dense)             (None, 7)                 903       \n",
      "                                                                 \n",
      "=================================================================\n",
      "Total params: 81,407\n",
      "Trainable params: 81,039\n",
      "Non-trainable params: 368\n",
      "_________________________________________________________________\n"
     ]
    }
   ],
   "source": [
    "# Import necessary libraries\n",
    "from tensorflow.keras.models import Sequential\n",
    "from tensorflow.keras.layers import Conv1D, MaxPooling1D, Flatten, Dense, Dropout, BatchNormalization\n",
    "from tensorflow.keras.optimizers import Adam\n",
    "\n",
    "# Define input shape\n",
    "input_shape = (170, 1)\n",
    "\n",
    "# Create model\n",
    "model = Sequential()\n",
    "\n",
    "model.add(Conv1D(filters=8, kernel_size=3, activation='relu', input_shape=input_shape ,use_bias=False))\n",
    "model.add(BatchNormalization())\n",
    "model.add(MaxPooling1D())\n",
    "\n",
    "model.add(Conv1D(filters=16, kernel_size=3, activation='relu', use_bias=False))\n",
    "model.add(BatchNormalization())\n",
    "model.add(MaxPooling1D())\n",
    "\n",
    "model.add(Conv1D(filters=32, kernel_size=3, activation='relu', use_bias=False))\n",
    "model.add(BatchNormalization())\n",
    "model.add(MaxPooling1D())\n",
    "\n",
    "model.add(Flatten())\n",
    "\n",
    "model.add(Dense(units=128, activation='relu', use_bias=False))\n",
    "model.add(BatchNormalization())\n",
    "\n",
    "model.add(Dropout(0.5))\n",
    "\n",
    "model.add(Dense(units=7, activation='softmax'))\n",
    "\n",
    "# adam = Adam(learning_rate=0.01)\n",
    "# Compile model with appropriate loss function, optimizer and metrics\n",
    "model.compile(loss='categorical_crossentropy', optimizer='adam', metrics=['accuracy'])\n",
    "\n",
    "# Print model summary\n",
    "model.summary()"
   ]
  },
  {
   "cell_type": "code",
   "execution_count": 80,
   "id": "f4ae4247",
   "metadata": {
    "scrolled": true
   },
   "outputs": [
    {
     "name": "stdout",
     "output_type": "stream",
     "text": [
      "Epoch 1/100\n",
      "396/396 [==============================] - 6s 14ms/step - loss: 1.8599 - accuracy: 0.3349 - val_loss: 1.6775 - val_accuracy: 0.3617\n",
      "Epoch 2/100\n",
      "396/396 [==============================] - 5s 14ms/step - loss: 1.5454 - accuracy: 0.4173 - val_loss: 1.4546 - val_accuracy: 0.4599\n",
      "Epoch 3/100\n",
      "396/396 [==============================] - 6s 14ms/step - loss: 1.4403 - accuracy: 0.4606 - val_loss: 1.3529 - val_accuracy: 0.4848\n",
      "Epoch 4/100\n",
      "396/396 [==============================] - 6s 14ms/step - loss: 1.3740 - accuracy: 0.4851 - val_loss: 1.4533 - val_accuracy: 0.4650\n",
      "Epoch 5/100\n",
      "396/396 [==============================] - 6s 14ms/step - loss: 1.3278 - accuracy: 0.5066 - val_loss: 1.2809 - val_accuracy: 0.5246\n",
      "Epoch 6/100\n",
      "396/396 [==============================] - 5s 14ms/step - loss: 1.2828 - accuracy: 0.5275 - val_loss: 1.2637 - val_accuracy: 0.5328\n",
      "Epoch 7/100\n",
      "396/396 [==============================] - 6s 14ms/step - loss: 1.2381 - accuracy: 0.5439 - val_loss: 1.2537 - val_accuracy: 0.5338\n",
      "Epoch 8/100\n",
      "396/396 [==============================] - 5s 14ms/step - loss: 1.1971 - accuracy: 0.5631 - val_loss: 1.2605 - val_accuracy: 0.5344\n",
      "Epoch 9/100\n",
      "396/396 [==============================] - 5s 14ms/step - loss: 1.1747 - accuracy: 0.5692 - val_loss: 1.2938 - val_accuracy: 0.5344\n",
      "Epoch 10/100\n",
      "396/396 [==============================] - 5s 14ms/step - loss: 1.1584 - accuracy: 0.5764 - val_loss: 1.1822 - val_accuracy: 0.5679\n",
      "Epoch 11/100\n",
      "396/396 [==============================] - 6s 14ms/step - loss: 1.1219 - accuracy: 0.5868 - val_loss: 1.1644 - val_accuracy: 0.5836\n",
      "Epoch 12/100\n",
      "396/396 [==============================] - 6s 14ms/step - loss: 1.1032 - accuracy: 0.5945 - val_loss: 1.1595 - val_accuracy: 0.5881\n",
      "Epoch 13/100\n",
      "396/396 [==============================] - 5s 14ms/step - loss: 1.0794 - accuracy: 0.6121 - val_loss: 1.1325 - val_accuracy: 0.5906\n",
      "Epoch 14/100\n",
      "396/396 [==============================] - 5s 13ms/step - loss: 1.0749 - accuracy: 0.6138 - val_loss: 1.1687 - val_accuracy: 0.5843\n",
      "Epoch 15/100\n",
      "396/396 [==============================] - 5s 14ms/step - loss: 1.0635 - accuracy: 0.6121 - val_loss: 1.1225 - val_accuracy: 0.6057\n",
      "Epoch 16/100\n",
      "396/396 [==============================] - 6s 14ms/step - loss: 1.0340 - accuracy: 0.6255 - val_loss: 1.1008 - val_accuracy: 0.6029\n",
      "Epoch 17/100\n",
      "396/396 [==============================] - 5s 14ms/step - loss: 1.0100 - accuracy: 0.6330 - val_loss: 1.1771 - val_accuracy: 0.5878\n",
      "Epoch 18/100\n",
      "396/396 [==============================] - 5s 14ms/step - loss: 0.9995 - accuracy: 0.6405 - val_loss: 1.1031 - val_accuracy: 0.6001\n",
      "Epoch 19/100\n",
      "396/396 [==============================] - 6s 14ms/step - loss: 0.9950 - accuracy: 0.6418 - val_loss: 1.1898 - val_accuracy: 0.5859\n",
      "Epoch 20/100\n",
      "396/396 [==============================] - 5s 14ms/step - loss: 0.9936 - accuracy: 0.6456 - val_loss: 1.0910 - val_accuracy: 0.6121\n",
      "Epoch 21/100\n",
      "396/396 [==============================] - 6s 15ms/step - loss: 0.9698 - accuracy: 0.6470 - val_loss: 1.1129 - val_accuracy: 0.6092\n",
      "Epoch 22/100\n",
      "396/396 [==============================] - 6s 16ms/step - loss: 0.9560 - accuracy: 0.6546 - val_loss: 1.0752 - val_accuracy: 0.6174\n",
      "Epoch 23/100\n",
      "396/396 [==============================] - 6s 14ms/step - loss: 0.9494 - accuracy: 0.6572 - val_loss: 1.0974 - val_accuracy: 0.6152\n",
      "Epoch 24/100\n",
      "396/396 [==============================] - 6s 14ms/step - loss: 0.9472 - accuracy: 0.6579 - val_loss: 1.0833 - val_accuracy: 0.6117\n",
      "Epoch 25/100\n",
      "396/396 [==============================] - 6s 14ms/step - loss: 0.9219 - accuracy: 0.6688 - val_loss: 1.1106 - val_accuracy: 0.5988\n",
      "Epoch 26/100\n",
      "396/396 [==============================] - 6s 14ms/step - loss: 0.9215 - accuracy: 0.6673 - val_loss: 1.0955 - val_accuracy: 0.6174\n",
      "Epoch 27/100\n",
      "396/396 [==============================] - 6s 14ms/step - loss: 0.9047 - accuracy: 0.6747 - val_loss: 1.0663 - val_accuracy: 0.6335\n",
      "Epoch 28/100\n",
      "396/396 [==============================] - 5s 13ms/step - loss: 0.8888 - accuracy: 0.6807 - val_loss: 1.0863 - val_accuracy: 0.6231\n",
      "Epoch 29/100\n",
      "396/396 [==============================] - 5s 14ms/step - loss: 0.9015 - accuracy: 0.6727 - val_loss: 1.0718 - val_accuracy: 0.6275\n",
      "Epoch 30/100\n",
      "396/396 [==============================] - 5s 14ms/step - loss: 0.8740 - accuracy: 0.6843 - val_loss: 1.0231 - val_accuracy: 0.6405\n",
      "Epoch 31/100\n",
      "396/396 [==============================] - 6s 14ms/step - loss: 0.8712 - accuracy: 0.6885 - val_loss: 1.0452 - val_accuracy: 0.6364\n",
      "Epoch 32/100\n",
      "396/396 [==============================] - 6s 14ms/step - loss: 0.8726 - accuracy: 0.6875 - val_loss: 1.0758 - val_accuracy: 0.6285\n",
      "Epoch 33/100\n",
      "396/396 [==============================] - 6s 14ms/step - loss: 0.8626 - accuracy: 0.6887 - val_loss: 1.0195 - val_accuracy: 0.6465\n",
      "Epoch 34/100\n",
      "396/396 [==============================] - 6s 14ms/step - loss: 0.8431 - accuracy: 0.6969 - val_loss: 1.0300 - val_accuracy: 0.6379\n",
      "Epoch 35/100\n",
      "396/396 [==============================] - 5s 14ms/step - loss: 0.8382 - accuracy: 0.6990 - val_loss: 1.0330 - val_accuracy: 0.6405\n",
      "Epoch 36/100\n",
      "396/396 [==============================] - 5s 14ms/step - loss: 0.8361 - accuracy: 0.6993 - val_loss: 1.0266 - val_accuracy: 0.6439\n",
      "Epoch 37/100\n",
      "396/396 [==============================] - 6s 14ms/step - loss: 0.8291 - accuracy: 0.7010 - val_loss: 1.0193 - val_accuracy: 0.6471\n",
      "Epoch 38/100\n",
      "396/396 [==============================] - 5s 14ms/step - loss: 0.8188 - accuracy: 0.7025 - val_loss: 1.0045 - val_accuracy: 0.6455\n",
      "Epoch 39/100\n",
      "396/396 [==============================] - 6s 14ms/step - loss: 0.8194 - accuracy: 0.7077 - val_loss: 1.0443 - val_accuracy: 0.6386\n",
      "Epoch 40/100\n",
      "396/396 [==============================] - 6s 14ms/step - loss: 0.8111 - accuracy: 0.7064 - val_loss: 1.0533 - val_accuracy: 0.6297\n",
      "Epoch 41/100\n",
      "396/396 [==============================] - 5s 14ms/step - loss: 0.8145 - accuracy: 0.7109 - val_loss: 1.1771 - val_accuracy: 0.6133\n",
      "Epoch 42/100\n",
      "396/396 [==============================] - 6s 14ms/step - loss: 0.8031 - accuracy: 0.7116 - val_loss: 1.0494 - val_accuracy: 0.6282\n",
      "Epoch 43/100\n",
      "396/396 [==============================] - 5s 13ms/step - loss: 0.7997 - accuracy: 0.7079 - val_loss: 1.0333 - val_accuracy: 0.6417\n",
      "Epoch 44/100\n",
      "396/396 [==============================] - 5s 14ms/step - loss: 0.7980 - accuracy: 0.7116 - val_loss: 1.0228 - val_accuracy: 0.6446\n",
      "Epoch 45/100\n",
      "396/396 [==============================] - 6s 14ms/step - loss: 0.7807 - accuracy: 0.7165 - val_loss: 1.0511 - val_accuracy: 0.6342\n",
      "Epoch 46/100\n",
      "396/396 [==============================] - 6s 14ms/step - loss: 0.7779 - accuracy: 0.7167 - val_loss: 1.0161 - val_accuracy: 0.6499\n",
      "Epoch 47/100\n",
      "396/396 [==============================] - 5s 14ms/step - loss: 0.7860 - accuracy: 0.7174 - val_loss: 1.0608 - val_accuracy: 0.6414\n",
      "Epoch 48/100\n",
      "396/396 [==============================] - 5s 14ms/step - loss: 0.7678 - accuracy: 0.7259 - val_loss: 1.0773 - val_accuracy: 0.6351\n",
      "Epoch 49/100\n",
      "396/396 [==============================] - 5s 14ms/step - loss: 0.7670 - accuracy: 0.7217 - val_loss: 1.0666 - val_accuracy: 0.6461\n",
      "Epoch 50/100\n",
      "396/396 [==============================] - 6s 14ms/step - loss: 0.7689 - accuracy: 0.7184 - val_loss: 1.0294 - val_accuracy: 0.6512\n",
      "Epoch 51/100\n",
      "396/396 [==============================] - 5s 14ms/step - loss: 0.7630 - accuracy: 0.7248 - val_loss: 1.0524 - val_accuracy: 0.6411\n",
      "Epoch 52/100\n",
      "396/396 [==============================] - 5s 14ms/step - loss: 0.7485 - accuracy: 0.7308 - val_loss: 0.9995 - val_accuracy: 0.6575\n",
      "Epoch 53/100\n",
      "396/396 [==============================] - 5s 14ms/step - loss: 0.7593 - accuracy: 0.7221 - val_loss: 1.0209 - val_accuracy: 0.6503\n",
      "Epoch 54/100\n",
      "396/396 [==============================] - 6s 14ms/step - loss: 0.7412 - accuracy: 0.7354 - val_loss: 1.0464 - val_accuracy: 0.6509\n",
      "Epoch 55/100\n",
      "396/396 [==============================] - 5s 14ms/step - loss: 0.7427 - accuracy: 0.7318 - val_loss: 1.0643 - val_accuracy: 0.6487\n",
      "Epoch 56/100\n",
      "396/396 [==============================] - 6s 14ms/step - loss: 0.7350 - accuracy: 0.7404 - val_loss: 1.0127 - val_accuracy: 0.6531\n",
      "Epoch 57/100\n",
      "396/396 [==============================] - 5s 14ms/step - loss: 0.7358 - accuracy: 0.7334 - val_loss: 0.9991 - val_accuracy: 0.6613\n",
      "Epoch 58/100\n",
      "396/396 [==============================] - 5s 14ms/step - loss: 0.7277 - accuracy: 0.7354 - val_loss: 1.0668 - val_accuracy: 0.6477\n",
      "Epoch 59/100\n",
      "396/396 [==============================] - 6s 14ms/step - loss: 0.7373 - accuracy: 0.7325 - val_loss: 1.0502 - val_accuracy: 0.6499\n",
      "Epoch 60/100\n",
      "396/396 [==============================] - 5s 14ms/step - loss: 0.7374 - accuracy: 0.7339 - val_loss: 1.0365 - val_accuracy: 0.6496\n",
      "Epoch 61/100\n",
      "396/396 [==============================] - 5s 14ms/step - loss: 0.7336 - accuracy: 0.7382 - val_loss: 1.0912 - val_accuracy: 0.6360\n",
      "Epoch 62/100\n",
      "396/396 [==============================] - 5s 13ms/step - loss: 0.7258 - accuracy: 0.7396 - val_loss: 1.0128 - val_accuracy: 0.6395\n",
      "Epoch 63/100\n",
      "396/396 [==============================] - 5s 14ms/step - loss: 0.7305 - accuracy: 0.7356 - val_loss: 1.0232 - val_accuracy: 0.6597\n",
      "Epoch 64/100\n",
      "396/396 [==============================] - 5s 14ms/step - loss: 0.7123 - accuracy: 0.7454 - val_loss: 1.0330 - val_accuracy: 0.6496\n",
      "Epoch 65/100\n",
      "396/396 [==============================] - 5s 14ms/step - loss: 0.7153 - accuracy: 0.7405 - val_loss: 1.0761 - val_accuracy: 0.6461\n",
      "Epoch 66/100\n",
      "396/396 [==============================] - 5s 13ms/step - loss: 0.7170 - accuracy: 0.7416 - val_loss: 1.0492 - val_accuracy: 0.6578\n",
      "Epoch 67/100\n",
      "396/396 [==============================] - 5s 14ms/step - loss: 0.7098 - accuracy: 0.7456 - val_loss: 1.0460 - val_accuracy: 0.6607\n",
      "Epoch 68/100\n",
      "396/396 [==============================] - 5s 14ms/step - loss: 0.7078 - accuracy: 0.7422 - val_loss: 1.0071 - val_accuracy: 0.6641\n",
      "Epoch 69/100\n",
      "396/396 [==============================] - 5s 14ms/step - loss: 0.6899 - accuracy: 0.7509 - val_loss: 1.0083 - val_accuracy: 0.6651\n",
      "Epoch 70/100\n",
      "396/396 [==============================] - 5s 14ms/step - loss: 0.6992 - accuracy: 0.7511 - val_loss: 1.0289 - val_accuracy: 0.6648\n",
      "Epoch 71/100\n",
      "396/396 [==============================] - 5s 14ms/step - loss: 0.6965 - accuracy: 0.7486 - val_loss: 1.0736 - val_accuracy: 0.6512\n",
      "Epoch 72/100\n",
      "396/396 [==============================] - 5s 13ms/step - loss: 0.6847 - accuracy: 0.7527 - val_loss: 1.0954 - val_accuracy: 0.6452\n",
      "Epoch 73/100\n",
      "396/396 [==============================] - 6s 14ms/step - loss: 0.6877 - accuracy: 0.7527 - val_loss: 0.9895 - val_accuracy: 0.6714\n",
      "Epoch 74/100\n",
      "396/396 [==============================] - 6s 14ms/step - loss: 0.6892 - accuracy: 0.7506 - val_loss: 1.0449 - val_accuracy: 0.6509\n",
      "Epoch 75/100\n",
      "396/396 [==============================] - 6s 14ms/step - loss: 0.6933 - accuracy: 0.7450 - val_loss: 0.9982 - val_accuracy: 0.6632\n",
      "Epoch 76/100\n",
      "396/396 [==============================] - 5s 14ms/step - loss: 0.6922 - accuracy: 0.7505 - val_loss: 1.0041 - val_accuracy: 0.6619\n",
      "Epoch 77/100\n",
      "396/396 [==============================] - 5s 14ms/step - loss: 0.6842 - accuracy: 0.7528 - val_loss: 1.0367 - val_accuracy: 0.6493\n",
      "Epoch 78/100\n",
      "396/396 [==============================] - 5s 13ms/step - loss: 0.6677 - accuracy: 0.7607 - val_loss: 1.0071 - val_accuracy: 0.6689\n",
      "Epoch 79/100\n",
      "396/396 [==============================] - 5s 14ms/step - loss: 0.6815 - accuracy: 0.7525 - val_loss: 1.0634 - val_accuracy: 0.6455\n",
      "Epoch 80/100\n",
      "396/396 [==============================] - 6s 16ms/step - loss: 0.6834 - accuracy: 0.7565 - val_loss: 1.0732 - val_accuracy: 0.6525\n",
      "Epoch 81/100\n",
      "396/396 [==============================] - 5s 13ms/step - loss: 0.6834 - accuracy: 0.7558 - val_loss: 1.0789 - val_accuracy: 0.6506\n",
      "Epoch 82/100\n",
      "396/396 [==============================] - 6s 14ms/step - loss: 0.6660 - accuracy: 0.7576 - val_loss: 0.9913 - val_accuracy: 0.6689\n",
      "Epoch 83/100\n",
      "396/396 [==============================] - 6s 14ms/step - loss: 0.6682 - accuracy: 0.7616 - val_loss: 0.9876 - val_accuracy: 0.6686\n",
      "Epoch 84/100\n",
      "396/396 [==============================] - 6s 15ms/step - loss: 0.6583 - accuracy: 0.7629 - val_loss: 0.9675 - val_accuracy: 0.6752\n",
      "Epoch 85/100\n",
      "396/396 [==============================] - 6s 15ms/step - loss: 0.6545 - accuracy: 0.7580 - val_loss: 1.0846 - val_accuracy: 0.6509\n",
      "Epoch 86/100\n",
      "396/396 [==============================] - 5s 14ms/step - loss: 0.6567 - accuracy: 0.7647 - val_loss: 1.0208 - val_accuracy: 0.6604\n",
      "Epoch 87/100\n",
      "396/396 [==============================] - 5s 14ms/step - loss: 0.6550 - accuracy: 0.7604 - val_loss: 1.0149 - val_accuracy: 0.6638\n",
      "Epoch 88/100\n",
      "396/396 [==============================] - 5s 14ms/step - loss: 0.6499 - accuracy: 0.7625 - val_loss: 1.0259 - val_accuracy: 0.6594\n",
      "Epoch 89/100\n",
      "396/396 [==============================] - 6s 14ms/step - loss: 0.6528 - accuracy: 0.7658 - val_loss: 1.0200 - val_accuracy: 0.6547\n",
      "Epoch 90/100\n",
      "396/396 [==============================] - 5s 14ms/step - loss: 0.6602 - accuracy: 0.7621 - val_loss: 1.0179 - val_accuracy: 0.6758\n",
      "Epoch 91/100\n",
      "396/396 [==============================] - 6s 14ms/step - loss: 0.6484 - accuracy: 0.7662 - val_loss: 0.9712 - val_accuracy: 0.6727\n",
      "Epoch 92/100\n",
      "396/396 [==============================] - 5s 14ms/step - loss: 0.6483 - accuracy: 0.7667 - val_loss: 0.9701 - val_accuracy: 0.6739\n",
      "Epoch 93/100\n",
      "396/396 [==============================] - 5s 14ms/step - loss: 0.6438 - accuracy: 0.7696 - val_loss: 1.0238 - val_accuracy: 0.6654\n",
      "Epoch 94/100\n",
      "396/396 [==============================] - 6s 14ms/step - loss: 0.6462 - accuracy: 0.7641 - val_loss: 1.1227 - val_accuracy: 0.6550\n",
      "Epoch 95/100\n",
      "396/396 [==============================] - 6s 14ms/step - loss: 0.6430 - accuracy: 0.7698 - val_loss: 1.0090 - val_accuracy: 0.6686\n",
      "Epoch 96/100\n",
      "396/396 [==============================] - 5s 14ms/step - loss: 0.6427 - accuracy: 0.7731 - val_loss: 0.9856 - val_accuracy: 0.6768\n",
      "Epoch 97/100\n",
      "396/396 [==============================] - 6s 14ms/step - loss: 0.6396 - accuracy: 0.7669 - val_loss: 1.0279 - val_accuracy: 0.6676\n",
      "Epoch 98/100\n",
      "396/396 [==============================] - 6s 15ms/step - loss: 0.6410 - accuracy: 0.7663 - val_loss: 1.0968 - val_accuracy: 0.6512\n",
      "Epoch 99/100\n",
      "396/396 [==============================] - 6s 14ms/step - loss: 0.6413 - accuracy: 0.7675 - val_loss: 1.0018 - val_accuracy: 0.6758\n",
      "Epoch 100/100\n",
      "396/396 [==============================] - 6s 14ms/step - loss: 0.6359 - accuracy: 0.7715 - val_loss: 0.9891 - val_accuracy: 0.6651\n"
     ]
    }
   ],
   "source": [
    "history = model.fit(X_train, y_train, batch_size=32, epochs=100, validation_data=(X_test, y_test),)"
   ]
  },
  {
   "cell_type": "code",
   "execution_count": 81,
   "id": "c6b37e69",
   "metadata": {
    "scrolled": false
   },
   "outputs": [
    {
     "name": "stdout",
     "output_type": "stream",
     "text": [
      "396/396 [==============================] - 3s 6ms/step - loss: 0.4715 - accuracy: 0.8582\n",
      "Accuracy of our model on Train data :  85.82 %\n"
     ]
    }
   ],
   "source": [
    "print(\"Accuracy of our model on Train data : \" , round(model.evaluate(X_train,y_train)[1]*100,2) , \"%\")"
   ]
  },
  {
   "cell_type": "code",
   "execution_count": 82,
   "id": "8fa772a5",
   "metadata": {},
   "outputs": [
    {
     "name": "stdout",
     "output_type": "stream",
     "text": [
      "99/99 [==============================] - 1s 6ms/step - loss: 0.9891 - accuracy: 0.6651\n",
      "Accuracy of our model on test data :  66.51 %\n"
     ]
    }
   ],
   "source": [
    "print(\"Accuracy of our model on test data : \" , round(model.evaluate(X_test,y_test)[1]*100,2) , \"%\")"
   ]
  },
  {
   "cell_type": "code",
   "execution_count": 83,
   "id": "0e38ca68",
   "metadata": {},
   "outputs": [
    {
     "data": {
      "image/png": "[encoded data removed]",
      "text/plain": [
       "<Figure size 432x288 with 1 Axes>"
      ]
     },
     "metadata": {
      "needs_background": "light"
     },
     "output_type": "display_data"
    }
   ],
   "source": [
    "TrainVal_plot(history)"
   ]
  },
  {
   "cell_type": "code",
   "execution_count": 9,
   "id": "1ddd89f2",
   "metadata": {},
   "outputs": [],
   "source": [
    "emotions = ['Angry', 'Disgust', 'Fearful', 'Happy', 'Neutral', 'Sad', 'Surprised']"
   ]
  },
  {
   "cell_type": "code",
   "execution_count": 37,
   "id": "5cf42353",
   "metadata": {},
   "outputs": [],
   "source": [
    "from transformers import pipeline\n",
    "classifier = pipeline(\"text-classification\", model=\"j-hartmann/emotion-english-distilroberta-base\", max_length=512)"
   ]
  },
  {
   "cell_type": "markdown",
   "id": "22cbef93",
   "metadata": {},
   "source": [
    "0 --> Angry\n",
    "1 --> Disgust\n",
    "2 --> Fearful\n",
    "3 --> Happy\n",
    "4 --> Neutral\n",
    "5 --> Sad\n",
    "6 --> Surprised"
   ]
  },
  {
   "cell_type": "code",
   "execution_count": 95,
   "id": "1fb561bf",
   "metadata": {},
   "outputs": [],
   "source": [
    "# Read and classify each line of dialogue\n",
    "with open(output_srt_file, 'r') as f:\n",
    "    lines = f.readlines()\n",
    "    n = len(lines)\n",
    "    text_probs = []\n",
    "    for i in range(2,n,4):\n",
    "        text_clas = classifier(lines[i])[0]\n",
    "        text_prob = []\n",
    "        for i in range(7):\n",
    "            prob = text_clas[i]['score']\n",
    "            text_prob.append(prob)\n",
    "        text_prob = np.array(text_prob)\n",
    "        text_probs.append(text_prob)\n",
    "    text_probs = np.array(text_probs)"
   ]
  },
  {
   "cell_type": "code",
   "execution_count": null,
   "id": "a29c8d4d",
   "metadata": {},
   "outputs": [],
   "source": [
    "model.load_weights"
   ]
  },
  {
   "cell_type": "code",
   "execution_count": 5,
   "id": "376aea79",
   "metadata": {
    "scrolled": true
   },
   "outputs": [
    {
     "ename": "NameError",
     "evalue": "name 'model' is not defined",
     "output_type": "error",
     "traceback": [
      "\u001b[0;31m---------------------------------------------------------------------------\u001b[0m",
      "\u001b[0;31mNameError\u001b[0m                                 Traceback (most recent call last)",
      "\u001b[0;32m/var/folders/jk/tz6m3jqj6bvbmrpzl548493r0000gn/T/ipykernel_19686/3581071405.py\u001b[0m in \u001b[0;36m<module>\u001b[0;34m\u001b[0m\n\u001b[1;32m      5\u001b[0m     \u001b[0maudio_features\u001b[0m \u001b[0;34m=\u001b[0m \u001b[0mnp\u001b[0m\u001b[0;34m.\u001b[0m\u001b[0mexpand_dims\u001b[0m\u001b[0;34m(\u001b[0m\u001b[0maudio_features\u001b[0m\u001b[0;34m,\u001b[0m \u001b[0maxis\u001b[0m\u001b[0;34m=\u001b[0m\u001b[0;36m1\u001b[0m\u001b[0;34m)\u001b[0m\u001b[0;34m\u001b[0m\u001b[0;34m\u001b[0m\u001b[0m\n\u001b[1;32m      6\u001b[0m     \u001b[0mtest\u001b[0m \u001b[0;34m=\u001b[0m \u001b[0mnp\u001b[0m\u001b[0;34m.\u001b[0m\u001b[0marray\u001b[0m\u001b[0;34m(\u001b[0m\u001b[0;34m[\u001b[0m\u001b[0maudio_features\u001b[0m\u001b[0;34m]\u001b[0m\u001b[0;34m)\u001b[0m\u001b[0;34m\u001b[0m\u001b[0;34m\u001b[0m\u001b[0m\n\u001b[0;32m----> 7\u001b[0;31m     \u001b[0mprediction\u001b[0m \u001b[0;34m=\u001b[0m \u001b[0mmodel\u001b[0m\u001b[0;34m.\u001b[0m\u001b[0mpredict\u001b[0m\u001b[0;34m(\u001b[0m\u001b[0mtest\u001b[0m\u001b[0;34m)\u001b[0m\u001b[0;34m\u001b[0m\u001b[0;34m\u001b[0m\u001b[0m\n\u001b[0m\u001b[1;32m      8\u001b[0m     \u001b[0mprint\u001b[0m\u001b[0;34m(\u001b[0m\u001b[0mi\u001b[0m\u001b[0;34m,\u001b[0m \u001b[0memotions\u001b[0m\u001b[0;34m[\u001b[0m\u001b[0mnp\u001b[0m\u001b[0;34m.\u001b[0m\u001b[0margmax\u001b[0m\u001b[0;34m(\u001b[0m\u001b[0mprediction\u001b[0m\u001b[0;34m)\u001b[0m\u001b[0;34m]\u001b[0m\u001b[0;34m)\u001b[0m\u001b[0;34m\u001b[0m\u001b[0;34m\u001b[0m\u001b[0m\n",
      "\u001b[0;31mNameError\u001b[0m: name 'model' is not defined"
     ]
    }
   ],
   "source": [
    "# Running model on files\n",
    "for i in range(129):\n",
    "    audio_file = f'/Users/hongtan/Desktop/sentimentsub/website/sentsub/media/segmented_wavs/{i}.wav'\n",
    "    audio_features = extract_features(audio_file)\n",
    "    audio_features = np.expand_dims(audio_features, axis=1)\n",
    "    test = np.array([audio_features])\n",
    "    prediction = model.predict(test)\n",
    "    print(i, emotions[np.argmax(prediction)])"
   ]
  },
  {
   "cell_type": "code",
   "execution_count": 47,
   "id": "e6d42599",
   "metadata": {},
   "outputs": [
    {
     "name": "stdout",
     "output_type": "stream",
     "text": [
      "neutral\n",
      "surprise\n",
      "disgust\n",
      "neutral\n",
      "disgust\n",
      "neutral\n",
      "neutral\n",
      "disgust\n",
      "disgust\n",
      "surprise\n",
      "surprise\n",
      "neutral\n",
      "neutral\n",
      "neutral\n",
      "neutral\n",
      "joy\n",
      "anger\n",
      "disgust\n",
      "surprise\n",
      "neutral\n",
      "joy\n",
      "neutral\n",
      "neutral\n",
      "neutral\n",
      "surprise\n",
      "neutral\n",
      "fear\n",
      "fear\n",
      "neutral\n",
      "joy\n",
      "neutral\n",
      "joy\n",
      "surprise\n",
      "surprise\n",
      "surprise\n",
      "disgust\n",
      "neutral\n",
      "neutral\n",
      "sadness\n",
      "fear\n",
      "neutral\n",
      "neutral\n",
      "neutral\n",
      "neutral\n",
      "fear\n",
      "disgust\n",
      "neutral\n",
      "neutral\n",
      "surprise\n",
      "neutral\n",
      "neutral\n",
      "neutral\n",
      "surprise\n",
      "neutral\n",
      "neutral\n",
      "neutral\n",
      "disgust\n",
      "fear\n",
      "neutral\n",
      "neutral\n",
      "disgust\n",
      "neutral\n",
      "disgust\n",
      "neutral\n",
      "surprise\n",
      "neutral\n",
      "sadness\n",
      "anger\n",
      "disgust\n",
      "disgust\n",
      "surprise\n",
      "neutral\n",
      "surprise\n",
      "anger\n",
      "fear\n",
      "neutral\n",
      "neutral\n",
      "neutral\n",
      "neutral\n",
      "sadness\n",
      "sadness\n",
      "neutral\n",
      "sadness\n",
      "surprise\n",
      "joy\n",
      "joy\n",
      "neutral\n",
      "neutral\n",
      "neutral\n",
      "neutral\n",
      "disgust\n",
      "neutral\n",
      "neutral\n",
      "anger\n",
      "sadness\n",
      "neutral\n",
      "neutral\n",
      "disgust\n",
      "neutral\n",
      "neutral\n",
      "fear\n",
      "joy\n",
      "neutral\n",
      "neutral\n",
      "disgust\n",
      "neutral\n",
      "surprise\n",
      "neutral\n",
      "disgust\n",
      "anger\n",
      "anger\n",
      "neutral\n",
      "neutral\n",
      "neutral\n",
      "neutral\n",
      "neutral\n",
      "neutral\n",
      "anger\n",
      "anger\n",
      "neutral\n",
      "neutral\n",
      "neutral\n",
      "neutral\n",
      "neutral\n",
      "neutral\n",
      "fear\n",
      "disgust\n",
      "neutral\n",
      "neutral\n"
     ]
    }
   ],
   "source": [
    "# Read and classify each line of dialogue\n",
    "with open('/Users/hongtan/Desktop/sentimentsub/website/sentsub/media/captions/audio.srt', 'r') as f:\n",
    "    lines = f.readlines()\n",
    "    n = len(lines)\n",
    "    for i in range(2,n,4):\n",
    "#         print(lines[i])\n",
    "        print(classifier(lines[i])[0]['label'])"
   ]
  },
  {
   "cell_type": "code",
   "execution_count": 98,
   "id": "bb7fb5e3",
   "metadata": {},
   "outputs": [
    {
     "data": {
      "text/plain": [
       "array([[0.00238788, 0.00560303, 0.00209024, 0.00354253, 0.03622993,\n",
       "        0.94206543, 0.00808095]])"
      ]
     },
     "execution_count": 98,
     "metadata": {},
     "output_type": "execute_result"
    }
   ],
   "source": [
    "prob = (text_probs[1] + prediction / 5) / (text_probs[1] + prediction / 5).sum()\n",
    "prob"
   ]
  },
  {
   "cell_type": "code",
   "execution_count": 78,
   "id": "891cb03c",
   "metadata": {},
   "outputs": [
    {
     "data": {
      "text/plain": [
       "'Disgust'"
      ]
     },
     "execution_count": 78,
     "metadata": {},
     "output_type": "execute_result"
    }
   ],
   "source": [
    "emotions[np.argmax(prob)]"
   ]
  },
  {
   "cell_type": "code",
   "execution_count": null,
   "id": "cf5a2c54",
   "metadata": {},
   "outputs": [],
   "source": [
    "# Get SRT file\n",
    "import stable_whisper\n",
    "whisper_model = stable_whisper.load_model('base')\n",
    "result = whisper_model.transcribe(insane_input_file, fp16=False)\n",
    "result.to_srt_vtt(output_srt_file, word_level=False)"
   ]
  },
  {
   "cell_type": "code",
   "execution_count": null,
   "id": "0f761fe4",
   "metadata": {},
   "outputs": [],
   "source": [
    "# Segment mp4 file into multiple wav files according to SRT file\n",
    "from pydub import AudioSegment\n",
    "import os\n",
    "\n",
    "# Load audio file\n",
    "# sound = AudioSegment.from_file(input_file, format=\"mp4\")\n",
    "# sound = sound.set_channels(1)\n",
    "# sound.export(output_wav_file, format=\"wav\")\n",
    "audio = AudioSegment.from_wav(insane_input_file)\n",
    "\n",
    "# Parse SRT file\n",
    "with open(output_srt_file, \"r\") as f:\n",
    "    lines = f.readlines()\n",
    "    subtitles = []\n",
    "    for line in lines:\n",
    "        if \"-->\" in line:\n",
    "            start, end = line.strip().split(\" --> \")\n",
    "            start = start.split(\":\")\n",
    "            end = end.split(\":\")\n",
    "            start = int(start[0]) * 3600 + int(start[1]) * 60 + float(start[2].replace(\",\", \".\"))\n",
    "            end = int(end[0]) * 3600 + int(end[1]) * 60 + float(end[2].replace(\",\", \".\"))\n",
    "            subtitles.append((start * 1000, end * 1000))\n",
    "\n",
    "# Create output directory\n",
    "os.makedirs(output_folder, exist_ok=True)\n",
    "\n",
    "# Split audio file and export segments\n",
    "for i, (start, end) in enumerate(subtitles):\n",
    "    segment = audio[start:end]\n",
    "    segment.export(output_folder + str(i) + \".wav\", format=\"wav\")"
   ]
  },
  {
   "cell_type": "code",
   "execution_count": 86,
   "id": "3943670e",
   "metadata": {},
   "outputs": [],
   "source": [
    "model.save_weights('/Users/hongtan/Desktop/sentimentsub/final_model/')"
   ]
  },
  {
   "cell_type": "code",
   "execution_count": 11,
   "id": "1a571f55",
   "metadata": {},
   "outputs": [
    {
     "data": {
      "text/plain": [
       "<tensorflow.python.checkpoint.checkpoint.CheckpointLoadStatus at 0x2aa2f3fa0>"
      ]
     },
     "execution_count": 11,
     "metadata": {},
     "output_type": "execute_result"
    }
   ],
   "source": [
    "model.load_weights('/Users/hongtan/Desktop/sentimentsub/final_model/')"
   ]
  },
  {
   "cell_type": "code",
   "execution_count": 13,
   "id": "5b8cb3ca",
   "metadata": {},
   "outputs": [
    {
     "ename": "NameError",
     "evalue": "name 'X_train' is not defined",
     "output_type": "error",
     "traceback": [
      "\u001b[0;31m---------------------------------------------------------------------------\u001b[0m",
      "\u001b[0;31mNameError\u001b[0m                                 Traceback (most recent call last)",
      "\u001b[0;32m/var/folders/jk/tz6m3jqj6bvbmrpzl548493r0000gn/T/ipykernel_7019/747595612.py\u001b[0m in \u001b[0;36m<module>\u001b[0;34m\u001b[0m\n\u001b[0;32m----> 1\u001b[0;31m \u001b[0mprint\u001b[0m\u001b[0;34m(\u001b[0m\u001b[0;34m\"Accuracy of our model on Train data : \"\u001b[0m \u001b[0;34m,\u001b[0m \u001b[0mround\u001b[0m\u001b[0;34m(\u001b[0m\u001b[0mmodel\u001b[0m\u001b[0;34m.\u001b[0m\u001b[0mevaluate\u001b[0m\u001b[0;34m(\u001b[0m\u001b[0mX_train\u001b[0m\u001b[0;34m,\u001b[0m\u001b[0my_train\u001b[0m\u001b[0;34m)\u001b[0m\u001b[0;34m[\u001b[0m\u001b[0;36m1\u001b[0m\u001b[0;34m]\u001b[0m\u001b[0;34m*\u001b[0m\u001b[0;36m100\u001b[0m\u001b[0;34m,\u001b[0m\u001b[0;36m2\u001b[0m\u001b[0;34m)\u001b[0m \u001b[0;34m,\u001b[0m \u001b[0;34m\"%\"\u001b[0m\u001b[0;34m)\u001b[0m\u001b[0;34m\u001b[0m\u001b[0;34m\u001b[0m\u001b[0m\n\u001b[0m",
      "\u001b[0;31mNameError\u001b[0m: name 'X_train' is not defined"
     ]
    }
   ],
   "source": [
    "print(\"Accuracy of our model on Train data : \" , round(model.evaluate(X_train,y_train)[1]*100,2) , \"%\")"
   ]
  },
  {
   "cell_type": "code",
   "execution_count": 14,
   "id": "8624d388",
   "metadata": {},
   "outputs": [
    {
     "ename": "NameError",
     "evalue": "name 'model3' is not defined",
     "output_type": "error",
     "traceback": [
      "\u001b[0;31m---------------------------------------------------------------------------\u001b[0m",
      "\u001b[0;31mNameError\u001b[0m                                 Traceback (most recent call last)",
      "\u001b[0;32m/var/folders/jk/tz6m3jqj6bvbmrpzl548493r0000gn/T/ipykernel_7019/4152234710.py\u001b[0m in \u001b[0;36m<module>\u001b[0;34m\u001b[0m\n\u001b[0;32m----> 1\u001b[0;31m \u001b[0mprint\u001b[0m\u001b[0;34m(\u001b[0m\u001b[0;34m\"Accuracy of our model on test data : \"\u001b[0m \u001b[0;34m,\u001b[0m \u001b[0mround\u001b[0m\u001b[0;34m(\u001b[0m\u001b[0mmodel3\u001b[0m\u001b[0;34m.\u001b[0m\u001b[0mevaluate\u001b[0m\u001b[0;34m(\u001b[0m\u001b[0mX_test\u001b[0m\u001b[0;34m,\u001b[0m\u001b[0my_test\u001b[0m\u001b[0;34m)\u001b[0m\u001b[0;34m[\u001b[0m\u001b[0;36m1\u001b[0m\u001b[0;34m]\u001b[0m\u001b[0;34m*\u001b[0m\u001b[0;36m100\u001b[0m\u001b[0;34m,\u001b[0m\u001b[0;36m2\u001b[0m\u001b[0;34m)\u001b[0m \u001b[0;34m,\u001b[0m \u001b[0;34m\"%\"\u001b[0m\u001b[0;34m)\u001b[0m\u001b[0;34m\u001b[0m\u001b[0;34m\u001b[0m\u001b[0m\n\u001b[0m",
      "\u001b[0;31mNameError\u001b[0m: name 'model3' is not defined"
     ]
    }
   ],
   "source": [
    "print(\"Accuracy of our model on test data : \" , round(model3.evaluate(X_test,y_test)[1]*100,2) , \"%\")"
   ]
  },
  {
   "cell_type": "code",
   "execution_count": 2,
   "id": "f01b9998",
   "metadata": {},
   "outputs": [
    {
     "data": {
      "image/png": "[encoded data removed]",
      "text/plain": [
       "<Figure size 720x360 with 1 Axes>"
      ]
     },
     "metadata": {
      "needs_background": "light"
     },
     "output_type": "display_data"
    }
   ],
   "source": [
    "import numpy as np\n",
    "import matplotlib.pyplot as plt\n",
    " \n",
    "  \n",
    "# creating the dataset\n",
    "data = {'Text':14.35, 'Audio':12.34, 'Both':13.23,}\n",
    "courses = list(data.keys())\n",
    "values = list(data.values())\n",
    "  \n",
    "fig = plt.figure(figsize = (10, 5))\n",
    " \n",
    "# creating the bar plot\n",
    "plt.bar(courses, values, color ='blue', width = 0.4)\n",
    " \n",
    "plt.xlabel(\"Sentiment Models\")\n",
    "plt.ylabel(\"Accuracy\")\n",
    "plt.title(\"Accuracy of Sentiment Models (on 103 Samples)\")\n",
    "plt.show()"
   ]
  },
  {
   "cell_type": "code",
   "execution_count": 3,
   "id": "bb70ebc7",
   "metadata": {},
   "outputs": [
    {
     "data": {
      "image/png": "[encoded data removed]",
      "text/plain": [
       "<Figure size 720x360 with 1 Axes>"
      ]
     },
     "metadata": {
      "needs_background": "light"
     },
     "output_type": "display_data"
    }
   ],
   "source": [
    "# function to add value labels\n",
    "def addlabels(x,y):\n",
    "    for i in range(len(x)):\n",
    "        plt.text(i, y[i]//2, y[i], ha = 'center')\n",
    " \n",
    "   \n",
    "# creating data on which bar chart will be plot\n",
    "x = [\"Text\", \"Audio\", \"Both\"]\n",
    "\n",
    "y = [24.27, 12.34, 19.53]\n",
    "\n",
    "# setting figure size by using figure() function\n",
    "plt.figure(figsize = (10,5))\n",
    "\n",
    "# making the bar chart on the data\n",
    "plt.bar(x, y)\n",
    "\n",
    "# calling the function to add value labels\n",
    "addlabels(x, y)\n",
    "\n",
    "# giving title to the plot\n",
    "plt.title(\"Accuracy of Sentiment Models (on 103 Samples)\")\n",
    "\n",
    "# giving X and Y labels\n",
    "plt.xlabel(\"Sentiment Models\")\n",
    "plt.ylabel(\"Accuracy\")\n",
    "\n",
    "# visualizing the plot\n",
    "plt.show()"
   ]
  },
  {
   "cell_type": "code",
   "execution_count": 68,
   "id": "2c43ebf5",
   "metadata": {},
   "outputs": [
    {
     "data": {
      "image/png": "[encoded data removed]",
      "text/plain": [
       "<Figure size 720x360 with 1 Axes>"
      ]
     },
     "metadata": {
      "needs_background": "light"
     },
     "output_type": "display_data"
    }
   ],
   "source": [
    "# function to add value labels\n",
    "def addlabels(x,y):\n",
    "    for i in range(len(x)):\n",
    "        plt.text(i, y[i]//2, y[i], ha = 'center')\n",
    " \n",
    "   \n",
    "# creating data on which bar chart will be plot\n",
    "x = [\"Text\", \"Audio\"]\n",
    "\n",
    "y = [66.0, 66.51]\n",
    "\n",
    "# setting figure size by using figure() function\n",
    "plt.figure(figsize = (10,5))\n",
    "\n",
    "# making the bar chart on the data\n",
    "plt.bar(x, y, color ='lightgreen')\n",
    "\n",
    "# calling the function to add value labels\n",
    "addlabels(x, y)\n",
    "\n",
    "# giving title to the plot\n",
    "plt.title(\"Accuracy of Sentiment Models (on different datasets)\")\n",
    "\n",
    "# giving X and Y labels\n",
    "plt.xlabel(\"Sentiment Models\")\n",
    "plt.ylabel(\"Accuracy\")\n",
    "\n",
    "# visualizing the plot\n",
    "plt.show()"
   ]
  },
  {
   "cell_type": "code",
   "execution_count": null,
   "id": "12b302b6",
   "metadata": {},
   "outputs": [],
   "source": []
  }
 ],
 "metadata": {
  "kernelspec": {
   "display_name": "Python 3 (ipykernel)",
   "language": "python",
   "name": "python3"
  },
  "language_info": {
   "codemirror_mode": {
    "name": "ipython",
    "version": 3
   },
   "file_extension": ".py",
   "mimetype": "text/x-python",
   "name": "python",
   "nbconvert_exporter": "python",
   "pygments_lexer": "ipython3",
   "version": "3.10.0"
  }
 },
 "nbformat": 4,
 "nbformat_minor": 5
}
