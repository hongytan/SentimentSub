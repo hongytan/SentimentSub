{
 "cells": [
  {
   "cell_type": "code",
   "execution_count": 6,
   "id": "970a6122",
   "metadata": {},
   "outputs": [],
   "source": [
    "from audiomentations import Compose, AddGaussianNoise, TimeStretch, PitchShift, Shift\n",
    "import librosa\n",
    "import soundfile as sf\n",
    "import os"
   ]
  },
  {
   "cell_type": "code",
   "execution_count": 2,
   "id": "ab9f68c5",
   "metadata": {},
   "outputs": [],
   "source": [
    "dataset_path = '/Users/hongtan/Downloads/archive/audio_speech_actors_01-24'"
   ]
  },
  {
   "cell_type": "code",
   "execution_count": 49,
   "id": "42f1078c",
   "metadata": {},
   "outputs": [],
   "source": [
    "# Define the data augmentation pipeline\n",
    "augment = Compose([\n",
    "    AddGaussianNoise(min_amplitude=0.001, max_amplitude=0.015, p=0.5),\n",
    "    TimeStretch(min_rate=0.8, max_rate=1.25, p=0.5),\n",
    "    PitchShift(min_semitones=-4, max_semitones=4, p=0.5),\n",
    "    Shift(min_fraction=-0.5, max_fraction=0.5, p=0.5),\n",
    "])"
   ]
  },
  {
   "cell_type": "code",
   "execution_count": 51,
   "id": "db021910",
   "metadata": {},
   "outputs": [],
   "source": [
    "for i in range(0,10,1):\n",
    "    # Augment wav files\n",
    "    for folder in os.listdir(dataset_path):\n",
    "        for file in os.listdir(os.path.join(dataset_path, folder)):\n",
    "            if file.endswith('.wav') and 'augmented' not in file:\n",
    "                file_path = os.path.join(dataset_path, folder, file)\n",
    "\n",
    "                # Load the audio file\n",
    "                samples, sample_rate = librosa.load(file_path, sr=None)\n",
    "\n",
    "                # Apply data augmentation to the audio samples\n",
    "                augmented_samples = augment(samples=samples, sample_rate=sample_rate)\n",
    "\n",
    "                # Save the augmented audio to a new file\n",
    "                output_file = file_path[:-4] + f'_augmented{i}.wav' \n",
    "                sf.write(output_file, augmented_samples, sample_rate) "
   ]
  },
  {
   "cell_type": "code",
   "execution_count": null,
   "id": "3738b576",
   "metadata": {},
   "outputs": [],
   "source": []
  }
 ],
 "metadata": {
  "kernelspec": {
   "display_name": "Python 3 (ipykernel)",
   "language": "python",
   "name": "python3"
  },
  "language_info": {
   "codemirror_mode": {
    "name": "ipython",
    "version": 3
   },
   "file_extension": ".py",
   "mimetype": "text/x-python",
   "name": "python",
   "nbconvert_exporter": "python",
   "pygments_lexer": "ipython3",
   "version": "3.10.0"
  }
 },
 "nbformat": 4,
 "nbformat_minor": 5
}
