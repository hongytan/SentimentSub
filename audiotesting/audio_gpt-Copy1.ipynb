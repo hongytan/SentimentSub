{
 "cells": [
  {
   "cell_type": "code",
   "execution_count": 1,
   "id": "3ed8dbac",
   "metadata": {},
   "outputs": [],
   "source": [
    "import librosa\n",
    "import os\n",
    "import numpy as np\n",
    "import matplotlib.pyplot as plt\n",
    "import seaborn as sns\n",
    "from sklearn.model_selection import train_test_split\n",
    "from sklearn.preprocessing import StandardScaler, OneHotEncoder"
   ]
  },
  {
   "cell_type": "code",
   "execution_count": 2,
   "id": "52244624",
   "metadata": {},
   "outputs": [],
   "source": [
    "dataset_path = '/Users/hongtan/Downloads/archive/audio_speech_actors_01-24'"
   ]
  },
  {
   "cell_type": "code",
   "execution_count": 91,
   "id": "7afc656f",
   "metadata": {},
   "outputs": [],
   "source": [
    "# Function to extract features from each audio file\n",
    "def extract_features(file_path):\n",
    "    audio, sr = librosa.load(file_path, sr=22050, duration=None)\n",
    "    \n",
    "    S = librosa.feature.melspectrogram(y=audio, sr=sr, n_mels=128, fmax=8000)\n",
    "    S_dB = librosa.power_to_db(S, ref=np.max)\n",
    "    \n",
    "    return S_dB"
   ]
  },
  {
   "cell_type": "code",
   "execution_count": 92,
   "id": "4ae351e1",
   "metadata": {},
   "outputs": [],
   "source": [
    "# Function to preprocess the data\n",
    "def preprocess_data(dataset_path):\n",
    "    X = []\n",
    "    y = []\n",
    "    for folder in os.listdir(dataset_path):\n",
    "        for file in os.listdir(os.path.join(dataset_path, folder)):\n",
    "            if file.endswith('.wav'):\n",
    "                \n",
    "                emotion = file.split('-')[2]\n",
    "                if int(emotion) == 1:\n",
    "                    label = 'Neutral'\n",
    "                elif int(emotion) == 2:\n",
    "                    label = 'Neutral' # Calm\n",
    "                elif int(emotion) == 3:\n",
    "                    label = 'Happy'\n",
    "                elif int(emotion) == 4:\n",
    "                    label = 'Sad'\n",
    "                elif int(emotion) == 5:\n",
    "                    label = 'Angry'\n",
    "                elif int(emotion) == 6:\n",
    "                    label = 'Fearful'\n",
    "                elif int(emotion) == 7:\n",
    "                    label = 'Disgust'\n",
    "                elif int(emotion) == 8:\n",
    "                    label = 'Surprised'\n",
    "                else:\n",
    "                    label = 'UNK'\n",
    "                    \n",
    "                file_path = os.path.join(dataset_path, folder, file)\n",
    "                features = extract_features(file_path)\n",
    "                X.append(features)\n",
    "                y.append(label)\n",
    "    return npX, y"
   ]
  },
  {
   "cell_type": "code",
   "execution_count": 93,
   "id": "e16718f4",
   "metadata": {
    "scrolled": false
   },
   "outputs": [],
   "source": [
    "# Preprocess the data\n",
    "X, y = preprocess_data(dataset_path)"
   ]
  },
  {
   "cell_type": "code",
   "execution_count": 96,
   "id": "690c308b",
   "metadata": {
    "scrolled": true
   },
   "outputs": [
    {
     "name": "stderr",
     "output_type": "stream",
     "text": [
      "/var/folders/jk/tz6m3jqj6bvbmrpzl548493r0000gn/T/ipykernel_97031/1268792649.py:2: VisibleDeprecationWarning: Creating an ndarray from ragged nested sequences (which is a list-or-tuple of lists-or-tuples-or ndarrays with different lengths or shapes) is deprecated. If you meant to do this, you must specify 'dtype=object' when creating the ndarray.\n",
      "  X = np.array(X)\n"
     ]
    },
    {
     "ename": "ValueError",
     "evalue": "could not broadcast input array from shape (128,169) into shape (128,)",
     "output_type": "error",
     "traceback": [
      "\u001b[0;31m---------------------------------------------------------------------------\u001b[0m",
      "\u001b[0;31mValueError\u001b[0m                                Traceback (most recent call last)",
      "\u001b[0;32m/var/folders/jk/tz6m3jqj6bvbmrpzl548493r0000gn/T/ipykernel_97031/1268792649.py\u001b[0m in \u001b[0;36m<module>\u001b[0;34m\u001b[0m\n\u001b[1;32m      1\u001b[0m \u001b[0;31m# X : 1440, 128, n\u001b[0m\u001b[0;34m\u001b[0m\u001b[0;34m\u001b[0m\u001b[0m\n\u001b[0;32m----> 2\u001b[0;31m \u001b[0mX\u001b[0m \u001b[0;34m=\u001b[0m \u001b[0mnp\u001b[0m\u001b[0;34m.\u001b[0m\u001b[0marray\u001b[0m\u001b[0;34m(\u001b[0m\u001b[0mX\u001b[0m\u001b[0;34m)\u001b[0m\u001b[0;34m\u001b[0m\u001b[0;34m\u001b[0m\u001b[0m\n\u001b[0m",
      "\u001b[0;31mValueError\u001b[0m: could not broadcast input array from shape (128,169) into shape (128,)"
     ]
    }
   ],
   "source": [
    "# X : 1440, 128, n\n",
    "X = np.array(X)"
   ]
  },
  {
   "cell_type": "code",
   "execution_count": 83,
   "id": "104b9960",
   "metadata": {},
   "outputs": [
    {
     "name": "stderr",
     "output_type": "stream",
     "text": [
      "/var/folders/jk/tz6m3jqj6bvbmrpzl548493r0000gn/T/ipykernel_97031/1619509510.py:1: VisibleDeprecationWarning: Creating an ndarray from ragged nested sequences (which is a list-or-tuple of lists-or-tuples-or ndarrays with different lengths or shapes) is deprecated. If you meant to do this, you must specify 'dtype=object' when creating the ndarray.\n",
      "  npx = np.array(X)\n"
     ]
    },
    {
     "ename": "ValueError",
     "evalue": "could not broadcast input array from shape (128,169) into shape (128,)",
     "output_type": "error",
     "traceback": [
      "\u001b[0;31m---------------------------------------------------------------------------\u001b[0m",
      "\u001b[0;31mValueError\u001b[0m                                Traceback (most recent call last)",
      "\u001b[0;32m/var/folders/jk/tz6m3jqj6bvbmrpzl548493r0000gn/T/ipykernel_97031/1619509510.py\u001b[0m in \u001b[0;36m<module>\u001b[0;34m\u001b[0m\n\u001b[0;32m----> 1\u001b[0;31m \u001b[0mnpx\u001b[0m \u001b[0;34m=\u001b[0m \u001b[0mnp\u001b[0m\u001b[0;34m.\u001b[0m\u001b[0marray\u001b[0m\u001b[0;34m(\u001b[0m\u001b[0mX\u001b[0m\u001b[0;34m)\u001b[0m\u001b[0;34m\u001b[0m\u001b[0;34m\u001b[0m\u001b[0m\n\u001b[0m",
      "\u001b[0;31mValueError\u001b[0m: could not broadcast input array from shape (128,169) into shape (128,)"
     ]
    }
   ],
   "source": [
    "npx = np.array(X)"
   ]
  },
  {
   "cell_type": "code",
   "execution_count": 71,
   "id": "612cd280",
   "metadata": {},
   "outputs": [
    {
     "data": {
      "text/plain": [
       "['Happy',\n",
       " 'Happy',\n",
       " 'Neutral',\n",
       " 'Neutral',\n",
       " 'Neutral',\n",
       " 'Happy',\n",
       " 'Happy',\n",
       " 'Neutral',\n",
       " 'Neutral',\n",
       " 'Neutral']"
      ]
     },
     "execution_count": 71,
     "metadata": {},
     "output_type": "execute_result"
    }
   ],
   "source": [
    "# Y : 1440, len(string)\n",
    "y[:2]"
   ]
  },
  {
   "cell_type": "code",
   "execution_count": 72,
   "id": "35701426",
   "metadata": {},
   "outputs": [],
   "source": [
    "OHE = OneHotEncoder()\n",
    "\n",
    "y = np.array(y).reshape(-1,1)\n",
    "y = OHE.fit_transform(y).toarray()"
   ]
  },
  {
   "cell_type": "code",
   "execution_count": 73,
   "id": "dd97efaa",
   "metadata": {
    "scrolled": true
   },
   "outputs": [
    {
     "data": {
      "text/plain": [
       "array([[0., 0., 0., 1., 0., 0., 0.],\n",
       "       [0., 0., 0., 1., 0., 0., 0.],\n",
       "       [0., 0., 0., 0., 1., 0., 0.],\n",
       "       [0., 0., 0., 0., 1., 0., 0.],\n",
       "       [0., 0., 0., 0., 1., 0., 0.],\n",
       "       [0., 0., 0., 1., 0., 0., 0.],\n",
       "       [0., 0., 0., 1., 0., 0., 0.],\n",
       "       [0., 0., 0., 0., 1., 0., 0.],\n",
       "       [0., 0., 0., 0., 1., 0., 0.],\n",
       "       [0., 0., 0., 0., 1., 0., 0.]])"
      ]
     },
     "execution_count": 73,
     "metadata": {},
     "output_type": "execute_result"
    }
   ],
   "source": [
    "y[:2]"
   ]
  },
  {
   "cell_type": "code",
   "execution_count": 76,
   "id": "b2c97a8e",
   "metadata": {},
   "outputs": [],
   "source": [
    "X_train, X_test, y_train, y_test = train_test_split(X, y, random_state=29, test_size=0.20, shuffle=True)"
   ]
  },
  {
   "cell_type": "code",
   "execution_count": 81,
   "id": "dd7d5896",
   "metadata": {},
   "outputs": [
    {
     "ename": "AttributeError",
     "evalue": "'list' object has no attribute 'reshape'",
     "output_type": "error",
     "traceback": [
      "\u001b[0;31m---------------------------------------------------------------------------\u001b[0m",
      "\u001b[0;31mAttributeError\u001b[0m                            Traceback (most recent call last)",
      "\u001b[0;32m/var/folders/jk/tz6m3jqj6bvbmrpzl548493r0000gn/T/ipykernel_97031/1220501009.py\u001b[0m in \u001b[0;36m<module>\u001b[0;34m\u001b[0m\n\u001b[1;32m      1\u001b[0m \u001b[0mSS\u001b[0m \u001b[0;34m=\u001b[0m \u001b[0mStandardScaler\u001b[0m\u001b[0;34m(\u001b[0m\u001b[0;34m)\u001b[0m\u001b[0;34m\u001b[0m\u001b[0;34m\u001b[0m\u001b[0m\n\u001b[1;32m      2\u001b[0m \u001b[0;34m\u001b[0m\u001b[0m\n\u001b[0;32m----> 3\u001b[0;31m \u001b[0mX_train\u001b[0m \u001b[0;34m=\u001b[0m \u001b[0mSS\u001b[0m\u001b[0;34m.\u001b[0m\u001b[0mfit_transform\u001b[0m\u001b[0;34m(\u001b[0m\u001b[0mX_train\u001b[0m\u001b[0;34m.\u001b[0m\u001b[0mreshape\u001b[0m\u001b[0;34m(\u001b[0m\u001b[0;34m-\u001b[0m\u001b[0;36m1\u001b[0m\u001b[0;34m,\u001b[0m \u001b[0mX_train\u001b[0m\u001b[0;34m.\u001b[0m\u001b[0mshape\u001b[0m\u001b[0;34m[\u001b[0m\u001b[0;34m-\u001b[0m\u001b[0;36m1\u001b[0m\u001b[0;34m]\u001b[0m\u001b[0;34m)\u001b[0m\u001b[0;34m)\u001b[0m\u001b[0;34m.\u001b[0m\u001b[0mreshape\u001b[0m\u001b[0;34m(\u001b[0m\u001b[0mX_train\u001b[0m\u001b[0;34m.\u001b[0m\u001b[0mshape\u001b[0m\u001b[0;34m)\u001b[0m\u001b[0;34m\u001b[0m\u001b[0;34m\u001b[0m\u001b[0m\n\u001b[0m\u001b[1;32m      4\u001b[0m \u001b[0mX_test\u001b[0m \u001b[0;34m=\u001b[0m \u001b[0mSS\u001b[0m\u001b[0;34m.\u001b[0m\u001b[0mtransform\u001b[0m\u001b[0;34m(\u001b[0m\u001b[0mX_test\u001b[0m\u001b[0;34m.\u001b[0m\u001b[0mreshape\u001b[0m\u001b[0;34m(\u001b[0m\u001b[0;34m-\u001b[0m\u001b[0;36m1\u001b[0m\u001b[0;34m,\u001b[0m \u001b[0mX_test\u001b[0m\u001b[0;34m.\u001b[0m\u001b[0mshape\u001b[0m\u001b[0;34m[\u001b[0m\u001b[0;34m-\u001b[0m\u001b[0;36m1\u001b[0m\u001b[0;34m]\u001b[0m\u001b[0;34m)\u001b[0m\u001b[0;34m)\u001b[0m\u001b[0;34m.\u001b[0m\u001b[0mreshape\u001b[0m\u001b[0;34m(\u001b[0m\u001b[0mX_test\u001b[0m\u001b[0;34m.\u001b[0m\u001b[0mshape\u001b[0m\u001b[0;34m)\u001b[0m\u001b[0;34m\u001b[0m\u001b[0;34m\u001b[0m\u001b[0m\n\u001b[1;32m      5\u001b[0m \u001b[0;34m\u001b[0m\u001b[0m\n",
      "\u001b[0;31mAttributeError\u001b[0m: 'list' object has no attribute 'reshape'"
     ]
    }
   ],
   "source": [
    "SS = StandardScaler()\n",
    "\n",
    "X_train = SS.fit_transform(X_train.reshape(-1, X_train.shape[-1])).reshape(X_train.shape)\n",
    "X_test = SS.transform(X_test.reshape(-1, X_test.shape[-1])).reshape(X_test.shape)\n",
    "\n",
    "# X_train = SS.fit_transform(X_train)\n",
    "# X_test = SS.transform(X_test)"
   ]
  },
  {
   "cell_type": "code",
   "execution_count": 86,
   "id": "101d7e26",
   "metadata": {
    "scrolled": true
   },
   "outputs": [
    {
     "name": "stdout",
     "output_type": "stream",
     "text": [
      "X_train: (1080, 170, 1)\n",
      "X_test: (360, 170, 1)\n"
     ]
    }
   ],
   "source": [
    "X_train = np.expand_dims(X_train, axis=2)\n",
    "X_test = np.expand_dims(X_test, axis=2)\n",
    "\n",
    "print('X_train: {}'.format(X_train.shape))\n",
    "print('X_test: {}'.format(X_test.shape))"
   ]
  },
  {
   "cell_type": "code",
   "execution_count": 79,
   "id": "c15f9768",
   "metadata": {},
   "outputs": [
    {
     "ename": "AttributeError",
     "evalue": "'list' object has no attribute 'shape'",
     "output_type": "error",
     "traceback": [
      "\u001b[0;31m---------------------------------------------------------------------------\u001b[0m",
      "\u001b[0;31mAttributeError\u001b[0m                            Traceback (most recent call last)",
      "\u001b[0;32m/var/folders/jk/tz6m3jqj6bvbmrpzl548493r0000gn/T/ipykernel_97031/3015351505.py\u001b[0m in \u001b[0;36m<module>\u001b[0;34m\u001b[0m\n\u001b[0;32m----> 1\u001b[0;31m \u001b[0;34m(\u001b[0m\u001b[0mX_train\u001b[0m\u001b[0;34m.\u001b[0m\u001b[0mshape\u001b[0m\u001b[0;34m[\u001b[0m\u001b[0;36m1\u001b[0m\u001b[0;34m]\u001b[0m\u001b[0;34m,\u001b[0m \u001b[0;36m1\u001b[0m\u001b[0;34m)\u001b[0m\u001b[0;34m\u001b[0m\u001b[0;34m\u001b[0m\u001b[0m\n\u001b[0m",
      "\u001b[0;31mAttributeError\u001b[0m: 'list' object has no attribute 'shape'"
     ]
    }
   ],
   "source": [
    "(X_train.shape[1], 1)"
   ]
  },
  {
   "cell_type": "code",
   "execution_count": 10,
   "id": "d694d767",
   "metadata": {},
   "outputs": [],
   "source": [
    "from keras.callbacks import EarlyStopping\n",
    "early_stop = EarlyStopping(monitor='val_loss', patience=20)\n",
    "\n",
    "# Function to plot Training Accuracy vs Validation Accuracy\n",
    "def TrainVal_plot(history):\n",
    "    val_acc = history.history['val_accuracy']\n",
    "    train_acc = history.history['accuracy']\n",
    "\n",
    "    epochs = range(1, early_stop.stopped_epoch+2)\n",
    "    plt.plot(epochs, val_acc, 'b', label='Validation Accuracy')\n",
    "    plt.plot(epochs, train_acc, 'r', label='Training Accuracy')\n",
    "    plt.title('Training vs. Validation')\n",
    "    plt.xlabel('Epochs')\n",
    "    plt.ylabel('Accuracy')\n",
    "    plt.legend()\n",
    "    plt.show()"
   ]
  },
  {
   "cell_type": "code",
   "execution_count": 105,
   "id": "ce02c629",
   "metadata": {},
   "outputs": [
    {
     "name": "stderr",
     "output_type": "stream",
     "text": [
      "WARNING:absl:At this time, the v2.11+ optimizer `tf.keras.optimizers.Adam` runs slowly on M1/M2 Macs, please use the legacy Keras optimizer instead, located at `tf.keras.optimizers.legacy.Adam`.\n",
      "WARNING:absl:There is a known slowdown when using v2.11+ Keras optimizers on M1/M2 Macs. Falling back to the legacy Keras optimizer, i.e., `tf.keras.optimizers.legacy.Adam`.\n"
     ]
    },
    {
     "name": "stdout",
     "output_type": "stream",
     "text": [
      "Model: \"sequential_5\"\n",
      "_________________________________________________________________\n",
      " Layer (type)                Output Shape              Param #   \n",
      "=================================================================\n",
      " conv1d_15 (Conv1D)          (None, 168, 8)            24        \n",
      "                                                                 \n",
      " batch_normalization_20 (Bat  (None, 168, 8)           32        \n",
      " chNormalization)                                                \n",
      "                                                                 \n",
      " max_pooling1d_15 (MaxPoolin  (None, 84, 8)            0         \n",
      " g1D)                                                            \n",
      "                                                                 \n",
      " conv1d_16 (Conv1D)          (None, 82, 16)            384       \n",
      "                                                                 \n",
      " batch_normalization_21 (Bat  (None, 82, 16)           64        \n",
      " chNormalization)                                                \n",
      "                                                                 \n",
      " max_pooling1d_16 (MaxPoolin  (None, 41, 16)           0         \n",
      " g1D)                                                            \n",
      "                                                                 \n",
      " conv1d_17 (Conv1D)          (None, 39, 32)            1536      \n",
      "                                                                 \n",
      " batch_normalization_22 (Bat  (None, 39, 32)           128       \n",
      " chNormalization)                                                \n",
      "                                                                 \n",
      " max_pooling1d_17 (MaxPoolin  (None, 19, 32)           0         \n",
      " g1D)                                                            \n",
      "                                                                 \n",
      " flatten_5 (Flatten)         (None, 608)               0         \n",
      "                                                                 \n",
      " dense_10 (Dense)            (None, 64)                38912     \n",
      "                                                                 \n",
      " batch_normalization_23 (Bat  (None, 64)               256       \n",
      " chNormalization)                                                \n",
      "                                                                 \n",
      " dropout_5 (Dropout)         (None, 64)                0         \n",
      "                                                                 \n",
      " dense_11 (Dense)            (None, 8)                 520       \n",
      "                                                                 \n",
      "=================================================================\n",
      "Total params: 41,856\n",
      "Trainable params: 41,616\n",
      "Non-trainable params: 240\n",
      "_________________________________________________________________\n"
     ]
    }
   ],
   "source": [
    "# Import necessary libraries\n",
    "from tensorflow.keras.models import Sequential\n",
    "from tensorflow.keras.layers import Conv1D, MaxPooling1D, Flatten, Dense, Dropout, BatchNormalization\n",
    "from tensorflow.keras.optimizers import Adam\n",
    "\n",
    "# Define input shape\n",
    "input_shape = (X_train.shape[1], 1)\n",
    "\n",
    "# Create model\n",
    "model = Sequential()\n",
    "\n",
    "model.add(Conv1D(filters=8, kernel_size=3, activation='relu', input_shape=input_shape ,use_bias=False))\n",
    "model.add(BatchNormalization())\n",
    "model.add(MaxPooling1D())\n",
    "\n",
    "model.add(Conv1D(filters=16, kernel_size=3, activation='relu', use_bias=False))\n",
    "model.add(BatchNormalization())\n",
    "model.add(MaxPooling1D())\n",
    "\n",
    "model.add(Conv1D(filters=32, kernel_size=3, activation='relu', use_bias=False))\n",
    "model.add(BatchNormalization())\n",
    "model.add(MaxPooling1D())\n",
    "\n",
    "model.add(Flatten())\n",
    "\n",
    "model.add(Dense(units=64, activation='relu', use_bias=False))\n",
    "model.add(BatchNormalization())\n",
    "\n",
    "model.add(Dropout(0.5))\n",
    "\n",
    "model.add(Dense(units=8, activation='softmax'))\n",
    "\n",
    "adam = Adam(learning_rate=0.01)\n",
    "# Compile model with appropriate loss function, optimizer and metrics\n",
    "model.compile(loss='categorical_crossentropy', optimizer=adam, metrics=['accuracy'])\n",
    "\n",
    "# Print model summary\n",
    "model.summary()"
   ]
  },
  {
   "cell_type": "code",
   "execution_count": 109,
   "id": "f4ae4247",
   "metadata": {},
   "outputs": [
    {
     "name": "stdout",
     "output_type": "stream",
     "text": [
      "Epoch 1/300\n",
      "270/270 [==============================] - 4s 14ms/step - loss: 1.0080 - accuracy: 0.6435 - val_loss: 2.7586 - val_accuracy: 0.4528\n",
      "Epoch 2/300\n",
      "270/270 [==============================] - 4s 14ms/step - loss: 1.0539 - accuracy: 0.6417 - val_loss: 6.0117 - val_accuracy: 0.3639\n",
      "Epoch 3/300\n",
      "270/270 [==============================] - 4s 14ms/step - loss: 1.1054 - accuracy: 0.6120 - val_loss: 21.3051 - val_accuracy: 0.2778\n",
      "Epoch 4/300\n",
      "270/270 [==============================] - 4s 14ms/step - loss: 1.4424 - accuracy: 0.4667 - val_loss: 15.0542 - val_accuracy: 0.4139\n",
      "Epoch 5/300\n",
      "270/270 [==============================] - 4s 14ms/step - loss: 1.2647 - accuracy: 0.5731 - val_loss: 13.0561 - val_accuracy: 0.4194\n",
      "Epoch 6/300\n",
      "270/270 [==============================] - 4s 14ms/step - loss: 1.2209 - accuracy: 0.5796 - val_loss: 16.6758 - val_accuracy: 0.3917\n",
      "Epoch 7/300\n",
      "270/270 [==============================] - 4s 14ms/step - loss: 1.1869 - accuracy: 0.5926 - val_loss: 12.9793 - val_accuracy: 0.4528\n",
      "Epoch 8/300\n",
      "270/270 [==============================] - 4s 14ms/step - loss: 1.1591 - accuracy: 0.6250 - val_loss: 19.5354 - val_accuracy: 0.4306\n",
      "Epoch 9/300\n",
      "270/270 [==============================] - 4s 14ms/step - loss: 1.0756 - accuracy: 0.6194 - val_loss: 25.8312 - val_accuracy: 0.4111\n",
      "Epoch 10/300\n",
      "270/270 [==============================] - 4s 14ms/step - loss: 1.0535 - accuracy: 0.6556 - val_loss: 11.2096 - val_accuracy: 0.4056\n",
      "Epoch 11/300\n",
      "270/270 [==============================] - 4s 14ms/step - loss: 1.0448 - accuracy: 0.6306 - val_loss: 3.1809 - val_accuracy: 0.4250\n",
      "Epoch 12/300\n",
      "270/270 [==============================] - 4s 14ms/step - loss: 1.1038 - accuracy: 0.6130 - val_loss: 5.5594 - val_accuracy: 0.4222\n",
      "Epoch 13/300\n",
      "270/270 [==============================] - 4s 14ms/step - loss: 0.9498 - accuracy: 0.6750 - val_loss: 6.4250 - val_accuracy: 0.4250\n",
      "Epoch 14/300\n",
      "270/270 [==============================] - 4s 14ms/step - loss: 0.9983 - accuracy: 0.6546 - val_loss: 5.0975 - val_accuracy: 0.4306\n",
      "Epoch 15/300\n",
      "270/270 [==============================] - 4s 14ms/step - loss: 0.9674 - accuracy: 0.6861 - val_loss: 6.0030 - val_accuracy: 0.4417\n",
      "Epoch 16/300\n",
      "270/270 [==============================] - 4s 14ms/step - loss: 1.0131 - accuracy: 0.6435 - val_loss: 22.6013 - val_accuracy: 0.3889\n",
      "Epoch 17/300\n",
      "270/270 [==============================] - 4s 14ms/step - loss: 0.9643 - accuracy: 0.6630 - val_loss: 21.5126 - val_accuracy: 0.4361\n",
      "Epoch 18/300\n",
      "270/270 [==============================] - 4s 14ms/step - loss: 0.9600 - accuracy: 0.7019 - val_loss: 10.5501 - val_accuracy: 0.4583\n",
      "Epoch 19/300\n",
      "270/270 [==============================] - 4s 14ms/step - loss: 0.9812 - accuracy: 0.6546 - val_loss: 7.4325 - val_accuracy: 0.4083\n",
      "Epoch 20/300\n",
      "270/270 [==============================] - 4s 14ms/step - loss: 0.9824 - accuracy: 0.6731 - val_loss: 5.1422 - val_accuracy: 0.4361\n",
      "Epoch 21/300\n",
      "270/270 [==============================] - 4s 14ms/step - loss: 1.0679 - accuracy: 0.6250 - val_loss: 6.4550 - val_accuracy: 0.4083\n",
      "Epoch 22/300\n",
      "270/270 [==============================] - 4s 14ms/step - loss: 1.0757 - accuracy: 0.6361 - val_loss: 4.1095 - val_accuracy: 0.4556\n",
      "Epoch 23/300\n",
      "270/270 [==============================] - 4s 14ms/step - loss: 0.9621 - accuracy: 0.6620 - val_loss: 4.7963 - val_accuracy: 0.4500\n",
      "Epoch 24/300\n",
      "270/270 [==============================] - 4s 14ms/step - loss: 0.9552 - accuracy: 0.6824 - val_loss: 7.4952 - val_accuracy: 0.4444\n",
      "Epoch 25/300\n",
      "270/270 [==============================] - 4s 14ms/step - loss: 0.8798 - accuracy: 0.6991 - val_loss: 15.2350 - val_accuracy: 0.4222\n",
      "Epoch 26/300\n",
      "270/270 [==============================] - 4s 14ms/step - loss: 0.9972 - accuracy: 0.6620 - val_loss: 24.0698 - val_accuracy: 0.4472\n",
      "Epoch 27/300\n",
      "270/270 [==============================] - 4s 14ms/step - loss: 0.8994 - accuracy: 0.7009 - val_loss: 13.6062 - val_accuracy: 0.4194\n",
      "Epoch 28/300\n",
      "270/270 [==============================] - 4s 14ms/step - loss: 0.9470 - accuracy: 0.6870 - val_loss: 9.9658 - val_accuracy: 0.4361\n",
      "Epoch 29/300\n",
      "270/270 [==============================] - 4s 14ms/step - loss: 0.9083 - accuracy: 0.6889 - val_loss: 6.6215 - val_accuracy: 0.4278\n",
      "Epoch 30/300\n",
      "270/270 [==============================] - 4s 14ms/step - loss: 0.8941 - accuracy: 0.7148 - val_loss: 5.0992 - val_accuracy: 0.4139\n",
      "Epoch 31/300\n",
      "270/270 [==============================] - 4s 14ms/step - loss: 0.8697 - accuracy: 0.7028 - val_loss: 8.0779 - val_accuracy: 0.4083\n",
      "Epoch 32/300\n",
      "270/270 [==============================] - 4s 14ms/step - loss: 1.0354 - accuracy: 0.6713 - val_loss: 14.2996 - val_accuracy: 0.4222\n",
      "Epoch 33/300\n",
      "270/270 [==============================] - 4s 14ms/step - loss: 0.9251 - accuracy: 0.6889 - val_loss: 12.4351 - val_accuracy: 0.4806\n",
      "Epoch 34/300\n",
      "270/270 [==============================] - 4s 14ms/step - loss: 0.9140 - accuracy: 0.6843 - val_loss: 13.1280 - val_accuracy: 0.4278\n",
      "Epoch 35/300\n",
      "270/270 [==============================] - 4s 15ms/step - loss: 0.9112 - accuracy: 0.6889 - val_loss: 15.2571 - val_accuracy: 0.4444\n",
      "Epoch 36/300\n",
      "270/270 [==============================] - 4s 14ms/step - loss: 0.8079 - accuracy: 0.7380 - val_loss: 25.9940 - val_accuracy: 0.4028\n",
      "Epoch 37/300\n",
      "270/270 [==============================] - 4s 15ms/step - loss: 0.9034 - accuracy: 0.6917 - val_loss: 13.6306 - val_accuracy: 0.4694\n",
      "Epoch 38/300\n",
      "270/270 [==============================] - 4s 14ms/step - loss: 0.8789 - accuracy: 0.7028 - val_loss: 11.9522 - val_accuracy: 0.4639\n",
      "Epoch 39/300\n",
      "270/270 [==============================] - 4s 15ms/step - loss: 0.8222 - accuracy: 0.7213 - val_loss: 10.8265 - val_accuracy: 0.4111\n",
      "Epoch 40/300\n",
      "270/270 [==============================] - 4s 14ms/step - loss: 0.8988 - accuracy: 0.6935 - val_loss: 10.7462 - val_accuracy: 0.4556\n",
      "Epoch 41/300\n",
      "270/270 [==============================] - 4s 14ms/step - loss: 1.0006 - accuracy: 0.6648 - val_loss: 4.9231 - val_accuracy: 0.3472\n",
      "Epoch 42/300\n",
      "270/270 [==============================] - 4s 14ms/step - loss: 1.3958 - accuracy: 0.5120 - val_loss: 4.0345 - val_accuracy: 0.4056\n",
      "Epoch 43/300\n",
      "270/270 [==============================] - 4s 14ms/step - loss: 1.1531 - accuracy: 0.5944 - val_loss: 8.6493 - val_accuracy: 0.4167\n",
      "Epoch 44/300\n",
      "270/270 [==============================] - 4s 14ms/step - loss: 1.0830 - accuracy: 0.6333 - val_loss: 3.2278 - val_accuracy: 0.4583\n",
      "Epoch 45/300\n",
      "270/270 [==============================] - 4s 14ms/step - loss: 0.9753 - accuracy: 0.6648 - val_loss: 6.7564 - val_accuracy: 0.4333\n",
      "Epoch 46/300\n",
      "270/270 [==============================] - 4s 14ms/step - loss: 0.9413 - accuracy: 0.6741 - val_loss: 11.1887 - val_accuracy: 0.4611\n",
      "Epoch 47/300\n",
      "270/270 [==============================] - 4s 14ms/step - loss: 0.8578 - accuracy: 0.7074 - val_loss: 29.0097 - val_accuracy: 0.4028\n",
      "Epoch 48/300\n",
      "270/270 [==============================] - 4s 14ms/step - loss: 0.9274 - accuracy: 0.6861 - val_loss: 12.0989 - val_accuracy: 0.4583\n",
      "Epoch 49/300\n",
      "270/270 [==============================] - 4s 14ms/step - loss: 0.8720 - accuracy: 0.7065 - val_loss: 11.6375 - val_accuracy: 0.4528\n",
      "Epoch 50/300\n",
      "270/270 [==============================] - 4s 14ms/step - loss: 0.8649 - accuracy: 0.7046 - val_loss: 13.5453 - val_accuracy: 0.4278\n",
      "Epoch 51/300\n",
      "270/270 [==============================] - 4s 14ms/step - loss: 0.8072 - accuracy: 0.7537 - val_loss: 11.5711 - val_accuracy: 0.4639\n",
      "Epoch 52/300\n",
      "270/270 [==============================] - 4s 14ms/step - loss: 0.8779 - accuracy: 0.7074 - val_loss: 14.9378 - val_accuracy: 0.4083\n",
      "Epoch 53/300\n",
      "270/270 [==============================] - 4s 14ms/step - loss: 0.9384 - accuracy: 0.6843 - val_loss: 26.1894 - val_accuracy: 0.4167\n",
      "Epoch 54/300\n",
      "270/270 [==============================] - 4s 14ms/step - loss: 1.0743 - accuracy: 0.6417 - val_loss: 4.4294 - val_accuracy: 0.4056\n",
      "Epoch 55/300\n",
      "270/270 [==============================] - 4s 14ms/step - loss: 1.0873 - accuracy: 0.6324 - val_loss: 2.0944 - val_accuracy: 0.4667\n",
      "Epoch 56/300\n",
      "270/270 [==============================] - 4s 14ms/step - loss: 1.0057 - accuracy: 0.6769 - val_loss: 2.6172 - val_accuracy: 0.4750\n",
      "Epoch 57/300\n",
      "270/270 [==============================] - 4s 14ms/step - loss: 0.9078 - accuracy: 0.6963 - val_loss: 2.7442 - val_accuracy: 0.4389\n",
      "Epoch 58/300\n",
      "270/270 [==============================] - 4s 14ms/step - loss: 0.8627 - accuracy: 0.7111 - val_loss: 5.4858 - val_accuracy: 0.4500\n",
      "Epoch 59/300\n",
      "270/270 [==============================] - 4s 14ms/step - loss: 0.8787 - accuracy: 0.7028 - val_loss: 11.4282 - val_accuracy: 0.4306\n",
      "Epoch 60/300\n",
      "270/270 [==============================] - 4s 14ms/step - loss: 0.8233 - accuracy: 0.7194 - val_loss: 8.1445 - val_accuracy: 0.4972\n",
      "Epoch 61/300\n",
      "270/270 [==============================] - 4s 14ms/step - loss: 0.8519 - accuracy: 0.7231 - val_loss: 8.7475 - val_accuracy: 0.4861\n",
      "Epoch 62/300\n",
      "270/270 [==============================] - 4s 14ms/step - loss: 0.8285 - accuracy: 0.7315 - val_loss: 2.7315 - val_accuracy: 0.4056\n",
      "Epoch 63/300\n",
      "270/270 [==============================] - 4s 14ms/step - loss: 0.8214 - accuracy: 0.7287 - val_loss: 7.8664 - val_accuracy: 0.4528\n",
      "Epoch 64/300\n",
      "270/270 [==============================] - 4s 14ms/step - loss: 0.9288 - accuracy: 0.6880 - val_loss: 14.2323 - val_accuracy: 0.4611\n",
      "Epoch 65/300\n",
      "270/270 [==============================] - 4s 14ms/step - loss: 0.7976 - accuracy: 0.7333 - val_loss: 11.3697 - val_accuracy: 0.4528\n",
      "Epoch 66/300\n",
      "270/270 [==============================] - 4s 14ms/step - loss: 0.8762 - accuracy: 0.7139 - val_loss: 11.1927 - val_accuracy: 0.4333\n",
      "Epoch 67/300\n",
      "270/270 [==============================] - 4s 14ms/step - loss: 0.8392 - accuracy: 0.7157 - val_loss: 4.7112 - val_accuracy: 0.4500\n",
      "Epoch 68/300\n",
      "270/270 [==============================] - 4s 14ms/step - loss: 0.8936 - accuracy: 0.7000 - val_loss: 8.5578 - val_accuracy: 0.4583\n",
      "Epoch 69/300\n",
      "270/270 [==============================] - 4s 14ms/step - loss: 0.7951 - accuracy: 0.7278 - val_loss: 8.0162 - val_accuracy: 0.4167\n",
      "Epoch 70/300\n",
      "270/270 [==============================] - 4s 14ms/step - loss: 0.8169 - accuracy: 0.7352 - val_loss: 6.2958 - val_accuracy: 0.4472\n",
      "Epoch 71/300\n",
      "270/270 [==============================] - 4s 14ms/step - loss: 1.1601 - accuracy: 0.5981 - val_loss: 14.6596 - val_accuracy: 0.4083\n",
      "Epoch 72/300\n",
      "270/270 [==============================] - 4s 14ms/step - loss: 0.9892 - accuracy: 0.6611 - val_loss: 9.1776 - val_accuracy: 0.4583\n",
      "Epoch 73/300\n",
      "270/270 [==============================] - 4s 14ms/step - loss: 0.9199 - accuracy: 0.6769 - val_loss: 5.4216 - val_accuracy: 0.4056\n",
      "Epoch 74/300\n",
      "270/270 [==============================] - 4s 14ms/step - loss: 0.8441 - accuracy: 0.7324 - val_loss: 5.1767 - val_accuracy: 0.4778\n",
      "Epoch 75/300\n",
      "270/270 [==============================] - 4s 14ms/step - loss: 0.8809 - accuracy: 0.7037 - val_loss: 3.7222 - val_accuracy: 0.4556\n",
      "Epoch 76/300\n",
      "270/270 [==============================] - 4s 14ms/step - loss: 0.7632 - accuracy: 0.7417 - val_loss: 12.9275 - val_accuracy: 0.4833\n",
      "Epoch 77/300\n",
      "270/270 [==============================] - 4s 14ms/step - loss: 0.8190 - accuracy: 0.7380 - val_loss: 6.7307 - val_accuracy: 0.4528\n",
      "Epoch 78/300\n",
      "270/270 [==============================] - 4s 14ms/step - loss: 0.7355 - accuracy: 0.7620 - val_loss: 6.9779 - val_accuracy: 0.4694\n",
      "Epoch 79/300\n",
      "270/270 [==============================] - 4s 14ms/step - loss: 0.7855 - accuracy: 0.7435 - val_loss: 11.4861 - val_accuracy: 0.4917\n",
      "Epoch 80/300\n",
      "270/270 [==============================] - 4s 14ms/step - loss: 0.8137 - accuracy: 0.7343 - val_loss: 10.7709 - val_accuracy: 0.4889\n",
      "Epoch 81/300\n",
      "270/270 [==============================] - 4s 14ms/step - loss: 0.7775 - accuracy: 0.7519 - val_loss: 5.1681 - val_accuracy: 0.5194\n",
      "Epoch 82/300\n",
      "270/270 [==============================] - 4s 14ms/step - loss: 0.7393 - accuracy: 0.7546 - val_loss: 2.3202 - val_accuracy: 0.4833\n",
      "Epoch 83/300\n",
      "270/270 [==============================] - 4s 14ms/step - loss: 0.7265 - accuracy: 0.7574 - val_loss: 4.5834 - val_accuracy: 0.4944\n",
      "Epoch 84/300\n",
      "270/270 [==============================] - 4s 14ms/step - loss: 0.8717 - accuracy: 0.7083 - val_loss: 3.9384 - val_accuracy: 0.4361\n",
      "Epoch 85/300\n",
      "270/270 [==============================] - 4s 14ms/step - loss: 0.8057 - accuracy: 0.7352 - val_loss: 3.6339 - val_accuracy: 0.4556\n",
      "Epoch 86/300\n",
      "270/270 [==============================] - 4s 14ms/step - loss: 0.7806 - accuracy: 0.7444 - val_loss: 6.1574 - val_accuracy: 0.4444\n",
      "Epoch 87/300\n",
      "270/270 [==============================] - 4s 14ms/step - loss: 0.8044 - accuracy: 0.7167 - val_loss: 4.4289 - val_accuracy: 0.4972\n",
      "Epoch 88/300\n",
      "270/270 [==============================] - 4s 14ms/step - loss: 0.8816 - accuracy: 0.7120 - val_loss: 3.9401 - val_accuracy: 0.4944\n",
      "Epoch 89/300\n",
      "270/270 [==============================] - 4s 13ms/step - loss: 0.8095 - accuracy: 0.7269 - val_loss: 4.0617 - val_accuracy: 0.4722\n",
      "Epoch 90/300\n",
      "270/270 [==============================] - 4s 14ms/step - loss: 1.1123 - accuracy: 0.6157 - val_loss: 2.6912 - val_accuracy: 0.4000\n",
      "Epoch 91/300\n",
      "270/270 [==============================] - 4s 14ms/step - loss: 1.0723 - accuracy: 0.6389 - val_loss: 3.0656 - val_accuracy: 0.4250\n",
      "Epoch 92/300\n",
      "270/270 [==============================] - 4s 14ms/step - loss: 0.9827 - accuracy: 0.6722 - val_loss: 4.4498 - val_accuracy: 0.4611\n",
      "Epoch 93/300\n",
      "270/270 [==============================] - 4s 14ms/step - loss: 0.9268 - accuracy: 0.6852 - val_loss: 5.2274 - val_accuracy: 0.4861\n",
      "Epoch 94/300\n",
      "270/270 [==============================] - 4s 14ms/step - loss: 0.8671 - accuracy: 0.7093 - val_loss: 2.3215 - val_accuracy: 0.4611\n",
      "Epoch 95/300\n",
      "270/270 [==============================] - 4s 14ms/step - loss: 0.8153 - accuracy: 0.7278 - val_loss: 1.8812 - val_accuracy: 0.5028\n",
      "Epoch 96/300\n",
      "270/270 [==============================] - 4s 14ms/step - loss: 0.8542 - accuracy: 0.7306 - val_loss: 2.0579 - val_accuracy: 0.4694\n",
      "Epoch 97/300\n",
      "270/270 [==============================] - 4s 14ms/step - loss: 0.7797 - accuracy: 0.7222 - val_loss: 4.1115 - val_accuracy: 0.4694\n",
      "Epoch 98/300\n",
      "270/270 [==============================] - 4s 14ms/step - loss: 0.7798 - accuracy: 0.7426 - val_loss: 2.6137 - val_accuracy: 0.4306\n",
      "Epoch 99/300\n",
      "270/270 [==============================] - 4s 14ms/step - loss: 0.8601 - accuracy: 0.7287 - val_loss: 4.6095 - val_accuracy: 0.4778\n",
      "Epoch 100/300\n",
      "270/270 [==============================] - 4s 14ms/step - loss: 0.7976 - accuracy: 0.7250 - val_loss: 4.1484 - val_accuracy: 0.4278\n",
      "Epoch 101/300\n",
      "270/270 [==============================] - 4s 14ms/step - loss: 0.8578 - accuracy: 0.7185 - val_loss: 2.9356 - val_accuracy: 0.4278\n",
      "Epoch 102/300\n",
      "270/270 [==============================] - 4s 14ms/step - loss: 0.8394 - accuracy: 0.7120 - val_loss: 2.2985 - val_accuracy: 0.4556\n",
      "Epoch 103/300\n",
      "270/270 [==============================] - 4s 14ms/step - loss: 0.7889 - accuracy: 0.7370 - val_loss: 2.6869 - val_accuracy: 0.4556\n",
      "Epoch 104/300\n",
      "270/270 [==============================] - 4s 14ms/step - loss: 0.8272 - accuracy: 0.7278 - val_loss: 3.2539 - val_accuracy: 0.4083\n",
      "Epoch 105/300\n",
      "270/270 [==============================] - 4s 13ms/step - loss: 0.8818 - accuracy: 0.7120 - val_loss: 1.8797 - val_accuracy: 0.4611\n",
      "Epoch 106/300\n",
      "270/270 [==============================] - 4s 14ms/step - loss: 0.8062 - accuracy: 0.7231 - val_loss: 3.5529 - val_accuracy: 0.5250\n",
      "Epoch 107/300\n",
      "270/270 [==============================] - 4s 14ms/step - loss: 0.7375 - accuracy: 0.7333 - val_loss: 3.4013 - val_accuracy: 0.4778\n",
      "Epoch 108/300\n",
      "270/270 [==============================] - 4s 14ms/step - loss: 0.7224 - accuracy: 0.7611 - val_loss: 3.2394 - val_accuracy: 0.4861\n",
      "Epoch 109/300\n",
      "270/270 [==============================] - 4s 14ms/step - loss: 0.9403 - accuracy: 0.6852 - val_loss: 2.4090 - val_accuracy: 0.3722\n",
      "Epoch 110/300\n",
      "270/270 [==============================] - 4s 14ms/step - loss: 1.0520 - accuracy: 0.6333 - val_loss: 3.7797 - val_accuracy: 0.4278\n",
      "Epoch 111/300\n",
      "270/270 [==============================] - 4s 13ms/step - loss: 0.9650 - accuracy: 0.6769 - val_loss: 3.5605 - val_accuracy: 0.4389\n",
      "Epoch 112/300\n",
      "270/270 [==============================] - 4s 14ms/step - loss: 0.9242 - accuracy: 0.6944 - val_loss: 2.8909 - val_accuracy: 0.4222\n",
      "Epoch 113/300\n"
     ]
    },
    {
     "name": "stdout",
     "output_type": "stream",
     "text": [
      "270/270 [==============================] - 4s 13ms/step - loss: 0.8003 - accuracy: 0.7324 - val_loss: 3.4900 - val_accuracy: 0.4611\n",
      "Epoch 114/300\n",
      "270/270 [==============================] - 4s 14ms/step - loss: 0.7558 - accuracy: 0.7306 - val_loss: 2.8237 - val_accuracy: 0.4722\n",
      "Epoch 115/300\n",
      "270/270 [==============================] - 4s 14ms/step - loss: 0.7421 - accuracy: 0.7528 - val_loss: 2.1394 - val_accuracy: 0.4639\n",
      "Epoch 116/300\n",
      "270/270 [==============================] - 4s 14ms/step - loss: 0.7837 - accuracy: 0.7417 - val_loss: 3.4523 - val_accuracy: 0.4667\n",
      "Epoch 117/300\n",
      "270/270 [==============================] - 4s 14ms/step - loss: 0.6605 - accuracy: 0.7926 - val_loss: 7.6103 - val_accuracy: 0.4750\n",
      "Epoch 118/300\n",
      "270/270 [==============================] - 4s 14ms/step - loss: 0.7701 - accuracy: 0.7398 - val_loss: 2.4000 - val_accuracy: 0.3722\n",
      "Epoch 119/300\n",
      "270/270 [==============================] - 4s 14ms/step - loss: 0.8349 - accuracy: 0.7278 - val_loss: 3.5921 - val_accuracy: 0.4444\n",
      "Epoch 120/300\n",
      "270/270 [==============================] - 4s 14ms/step - loss: 0.6802 - accuracy: 0.7759 - val_loss: 5.3182 - val_accuracy: 0.4750\n",
      "Epoch 121/300\n",
      "270/270 [==============================] - 4s 14ms/step - loss: 0.6787 - accuracy: 0.7667 - val_loss: 3.2591 - val_accuracy: 0.4472\n",
      "Epoch 122/300\n",
      "270/270 [==============================] - 4s 14ms/step - loss: 0.7646 - accuracy: 0.7454 - val_loss: 3.4209 - val_accuracy: 0.3556\n",
      "Epoch 123/300\n",
      "270/270 [==============================] - 4s 14ms/step - loss: 1.0940 - accuracy: 0.6185 - val_loss: 3.1212 - val_accuracy: 0.3833\n",
      "Epoch 124/300\n",
      "270/270 [==============================] - 4s 14ms/step - loss: 0.9153 - accuracy: 0.6852 - val_loss: 4.9307 - val_accuracy: 0.4250\n",
      "Epoch 125/300\n",
      "270/270 [==============================] - 4s 14ms/step - loss: 0.8644 - accuracy: 0.7167 - val_loss: 4.3306 - val_accuracy: 0.4333\n",
      "Epoch 126/300\n",
      "270/270 [==============================] - 4s 14ms/step - loss: 0.8153 - accuracy: 0.7296 - val_loss: 2.4106 - val_accuracy: 0.4194\n",
      "Epoch 127/300\n",
      "270/270 [==============================] - 4s 14ms/step - loss: 0.7444 - accuracy: 0.7546 - val_loss: 3.8630 - val_accuracy: 0.4361\n",
      "Epoch 128/300\n",
      "270/270 [==============================] - 4s 14ms/step - loss: 0.7594 - accuracy: 0.7454 - val_loss: 8.7000 - val_accuracy: 0.4611\n",
      "Epoch 129/300\n",
      "270/270 [==============================] - 4s 14ms/step - loss: 0.7016 - accuracy: 0.7611 - val_loss: 7.0226 - val_accuracy: 0.4306\n",
      "Epoch 130/300\n",
      "270/270 [==============================] - 4s 14ms/step - loss: 0.8201 - accuracy: 0.7380 - val_loss: 4.6301 - val_accuracy: 0.4528\n",
      "Epoch 131/300\n",
      "270/270 [==============================] - 4s 14ms/step - loss: 0.8151 - accuracy: 0.7213 - val_loss: 6.9812 - val_accuracy: 0.4556\n",
      "Epoch 132/300\n",
      "270/270 [==============================] - 4s 14ms/step - loss: 0.7217 - accuracy: 0.7602 - val_loss: 9.3757 - val_accuracy: 0.4917\n",
      "Epoch 133/300\n",
      "167/270 [=================>............] - ETA: 1s - loss: 0.7557 - accuracy: 0.7470"
     ]
    },
    {
     "ename": "KeyboardInterrupt",
     "evalue": "",
     "output_type": "error",
     "traceback": [
      "\u001b[0;31m---------------------------------------------------------------------------\u001b[0m",
      "\u001b[0;31mKeyboardInterrupt\u001b[0m                         Traceback (most recent call last)",
      "\u001b[0;32m/var/folders/jk/tz6m3jqj6bvbmrpzl548493r0000gn/T/ipykernel_95710/2733625572.py\u001b[0m in \u001b[0;36m<module>\u001b[0;34m\u001b[0m\n\u001b[0;32m----> 1\u001b[0;31m \u001b[0mhistory\u001b[0m \u001b[0;34m=\u001b[0m \u001b[0mmodel\u001b[0m\u001b[0;34m.\u001b[0m\u001b[0mfit\u001b[0m\u001b[0;34m(\u001b[0m\u001b[0mX_train\u001b[0m\u001b[0;34m,\u001b[0m \u001b[0my_train\u001b[0m\u001b[0;34m,\u001b[0m \u001b[0mbatch_size\u001b[0m\u001b[0;34m=\u001b[0m\u001b[0;36m4\u001b[0m\u001b[0;34m,\u001b[0m \u001b[0mepochs\u001b[0m\u001b[0;34m=\u001b[0m\u001b[0;36m300\u001b[0m\u001b[0;34m,\u001b[0m \u001b[0mvalidation_data\u001b[0m\u001b[0;34m=\u001b[0m\u001b[0;34m(\u001b[0m\u001b[0mX_test\u001b[0m\u001b[0;34m,\u001b[0m \u001b[0my_test\u001b[0m\u001b[0;34m)\u001b[0m\u001b[0;34m,\u001b[0m\u001b[0;34m)\u001b[0m\u001b[0;34m\u001b[0m\u001b[0;34m\u001b[0m\u001b[0m\n\u001b[0m\u001b[1;32m      2\u001b[0m \u001b[0;31m# callbacks=[early_stop])\u001b[0m\u001b[0;34m\u001b[0m\u001b[0;34m\u001b[0m\u001b[0m\n",
      "\u001b[0;32m/Library/Frameworks/Python.framework/Versions/3.10/lib/python3.10/site-packages/wandb/integration/keras/keras.py\u001b[0m in \u001b[0;36mnew_v2\u001b[0;34m(*args, **kwargs)\u001b[0m\n\u001b[1;32m    172\u001b[0m             \u001b[0;32mfor\u001b[0m \u001b[0mcbk\u001b[0m \u001b[0;32min\u001b[0m \u001b[0mcbks\u001b[0m\u001b[0;34m:\u001b[0m\u001b[0;34m\u001b[0m\u001b[0;34m\u001b[0m\u001b[0m\n\u001b[1;32m    173\u001b[0m                 \u001b[0mset_wandb_attrs\u001b[0m\u001b[0;34m(\u001b[0m\u001b[0mcbk\u001b[0m\u001b[0;34m,\u001b[0m \u001b[0mval_data\u001b[0m\u001b[0;34m)\u001b[0m\u001b[0;34m\u001b[0m\u001b[0;34m\u001b[0m\u001b[0m\n\u001b[0;32m--> 174\u001b[0;31m         \u001b[0;32mreturn\u001b[0m \u001b[0mold_v2\u001b[0m\u001b[0;34m(\u001b[0m\u001b[0;34m*\u001b[0m\u001b[0margs\u001b[0m\u001b[0;34m,\u001b[0m \u001b[0;34m**\u001b[0m\u001b[0mkwargs\u001b[0m\u001b[0;34m)\u001b[0m\u001b[0;34m\u001b[0m\u001b[0;34m\u001b[0m\u001b[0m\n\u001b[0m\u001b[1;32m    175\u001b[0m \u001b[0;34m\u001b[0m\u001b[0m\n\u001b[1;32m    176\u001b[0m     \u001b[0mtraining_arrays\u001b[0m\u001b[0;34m.\u001b[0m\u001b[0morig_fit_loop\u001b[0m \u001b[0;34m=\u001b[0m \u001b[0mold_arrays\u001b[0m\u001b[0;34m\u001b[0m\u001b[0;34m\u001b[0m\u001b[0m\n",
      "\u001b[0;32m/Library/Frameworks/Python.framework/Versions/3.10/lib/python3.10/site-packages/wandb/integration/keras/keras.py\u001b[0m in \u001b[0;36mnew_v2\u001b[0;34m(*args, **kwargs)\u001b[0m\n\u001b[1;32m    172\u001b[0m             \u001b[0;32mfor\u001b[0m \u001b[0mcbk\u001b[0m \u001b[0;32min\u001b[0m \u001b[0mcbks\u001b[0m\u001b[0;34m:\u001b[0m\u001b[0;34m\u001b[0m\u001b[0;34m\u001b[0m\u001b[0m\n\u001b[1;32m    173\u001b[0m                 \u001b[0mset_wandb_attrs\u001b[0m\u001b[0;34m(\u001b[0m\u001b[0mcbk\u001b[0m\u001b[0;34m,\u001b[0m \u001b[0mval_data\u001b[0m\u001b[0;34m)\u001b[0m\u001b[0;34m\u001b[0m\u001b[0;34m\u001b[0m\u001b[0m\n\u001b[0;32m--> 174\u001b[0;31m         \u001b[0;32mreturn\u001b[0m \u001b[0mold_v2\u001b[0m\u001b[0;34m(\u001b[0m\u001b[0;34m*\u001b[0m\u001b[0margs\u001b[0m\u001b[0;34m,\u001b[0m \u001b[0;34m**\u001b[0m\u001b[0mkwargs\u001b[0m\u001b[0;34m)\u001b[0m\u001b[0;34m\u001b[0m\u001b[0;34m\u001b[0m\u001b[0m\n\u001b[0m\u001b[1;32m    175\u001b[0m \u001b[0;34m\u001b[0m\u001b[0m\n\u001b[1;32m    176\u001b[0m     \u001b[0mtraining_arrays\u001b[0m\u001b[0;34m.\u001b[0m\u001b[0morig_fit_loop\u001b[0m \u001b[0;34m=\u001b[0m \u001b[0mold_arrays\u001b[0m\u001b[0;34m\u001b[0m\u001b[0;34m\u001b[0m\u001b[0m\n",
      "\u001b[0;32m/Library/Frameworks/Python.framework/Versions/3.10/lib/python3.10/site-packages/wandb/integration/keras/keras.py\u001b[0m in \u001b[0;36mnew_v2\u001b[0;34m(*args, **kwargs)\u001b[0m\n\u001b[1;32m    172\u001b[0m             \u001b[0;32mfor\u001b[0m \u001b[0mcbk\u001b[0m \u001b[0;32min\u001b[0m \u001b[0mcbks\u001b[0m\u001b[0;34m:\u001b[0m\u001b[0;34m\u001b[0m\u001b[0;34m\u001b[0m\u001b[0m\n\u001b[1;32m    173\u001b[0m                 \u001b[0mset_wandb_attrs\u001b[0m\u001b[0;34m(\u001b[0m\u001b[0mcbk\u001b[0m\u001b[0;34m,\u001b[0m \u001b[0mval_data\u001b[0m\u001b[0;34m)\u001b[0m\u001b[0;34m\u001b[0m\u001b[0;34m\u001b[0m\u001b[0m\n\u001b[0;32m--> 174\u001b[0;31m         \u001b[0;32mreturn\u001b[0m \u001b[0mold_v2\u001b[0m\u001b[0;34m(\u001b[0m\u001b[0;34m*\u001b[0m\u001b[0margs\u001b[0m\u001b[0;34m,\u001b[0m \u001b[0;34m**\u001b[0m\u001b[0mkwargs\u001b[0m\u001b[0;34m)\u001b[0m\u001b[0;34m\u001b[0m\u001b[0;34m\u001b[0m\u001b[0m\n\u001b[0m\u001b[1;32m    175\u001b[0m \u001b[0;34m\u001b[0m\u001b[0m\n\u001b[1;32m    176\u001b[0m     \u001b[0mtraining_arrays\u001b[0m\u001b[0;34m.\u001b[0m\u001b[0morig_fit_loop\u001b[0m \u001b[0;34m=\u001b[0m \u001b[0mold_arrays\u001b[0m\u001b[0;34m\u001b[0m\u001b[0;34m\u001b[0m\u001b[0m\n",
      "\u001b[0;32m/Library/Frameworks/Python.framework/Versions/3.10/lib/python3.10/site-packages/keras/utils/traceback_utils.py\u001b[0m in \u001b[0;36merror_handler\u001b[0;34m(*args, **kwargs)\u001b[0m\n\u001b[1;32m     63\u001b[0m         \u001b[0mfiltered_tb\u001b[0m \u001b[0;34m=\u001b[0m \u001b[0;32mNone\u001b[0m\u001b[0;34m\u001b[0m\u001b[0;34m\u001b[0m\u001b[0m\n\u001b[1;32m     64\u001b[0m         \u001b[0;32mtry\u001b[0m\u001b[0;34m:\u001b[0m\u001b[0;34m\u001b[0m\u001b[0;34m\u001b[0m\u001b[0m\n\u001b[0;32m---> 65\u001b[0;31m             \u001b[0;32mreturn\u001b[0m \u001b[0mfn\u001b[0m\u001b[0;34m(\u001b[0m\u001b[0;34m*\u001b[0m\u001b[0margs\u001b[0m\u001b[0;34m,\u001b[0m \u001b[0;34m**\u001b[0m\u001b[0mkwargs\u001b[0m\u001b[0;34m)\u001b[0m\u001b[0;34m\u001b[0m\u001b[0;34m\u001b[0m\u001b[0m\n\u001b[0m\u001b[1;32m     66\u001b[0m         \u001b[0;32mexcept\u001b[0m \u001b[0mException\u001b[0m \u001b[0;32mas\u001b[0m \u001b[0me\u001b[0m\u001b[0;34m:\u001b[0m\u001b[0;34m\u001b[0m\u001b[0;34m\u001b[0m\u001b[0m\n\u001b[1;32m     67\u001b[0m             \u001b[0mfiltered_tb\u001b[0m \u001b[0;34m=\u001b[0m \u001b[0m_process_traceback_frames\u001b[0m\u001b[0;34m(\u001b[0m\u001b[0me\u001b[0m\u001b[0;34m.\u001b[0m\u001b[0m__traceback__\u001b[0m\u001b[0;34m)\u001b[0m\u001b[0;34m\u001b[0m\u001b[0;34m\u001b[0m\u001b[0m\n",
      "\u001b[0;32m/Library/Frameworks/Python.framework/Versions/3.10/lib/python3.10/site-packages/keras/engine/training.py\u001b[0m in \u001b[0;36mfit\u001b[0;34m(self, x, y, batch_size, epochs, verbose, callbacks, validation_split, validation_data, shuffle, class_weight, sample_weight, initial_epoch, steps_per_epoch, validation_steps, validation_batch_size, validation_freq, max_queue_size, workers, use_multiprocessing)\u001b[0m\n\u001b[1;32m   1683\u001b[0m                         ):\n\u001b[1;32m   1684\u001b[0m                             \u001b[0mcallbacks\u001b[0m\u001b[0;34m.\u001b[0m\u001b[0mon_train_batch_begin\u001b[0m\u001b[0;34m(\u001b[0m\u001b[0mstep\u001b[0m\u001b[0;34m)\u001b[0m\u001b[0;34m\u001b[0m\u001b[0;34m\u001b[0m\u001b[0m\n\u001b[0;32m-> 1685\u001b[0;31m                             \u001b[0mtmp_logs\u001b[0m \u001b[0;34m=\u001b[0m \u001b[0mself\u001b[0m\u001b[0;34m.\u001b[0m\u001b[0mtrain_function\u001b[0m\u001b[0;34m(\u001b[0m\u001b[0miterator\u001b[0m\u001b[0;34m)\u001b[0m\u001b[0;34m\u001b[0m\u001b[0;34m\u001b[0m\u001b[0m\n\u001b[0m\u001b[1;32m   1686\u001b[0m                             \u001b[0;32mif\u001b[0m \u001b[0mdata_handler\u001b[0m\u001b[0;34m.\u001b[0m\u001b[0mshould_sync\u001b[0m\u001b[0;34m:\u001b[0m\u001b[0;34m\u001b[0m\u001b[0;34m\u001b[0m\u001b[0m\n\u001b[1;32m   1687\u001b[0m                                 \u001b[0mcontext\u001b[0m\u001b[0;34m.\u001b[0m\u001b[0masync_wait\u001b[0m\u001b[0;34m(\u001b[0m\u001b[0;34m)\u001b[0m\u001b[0;34m\u001b[0m\u001b[0;34m\u001b[0m\u001b[0m\n",
      "\u001b[0;32m/Library/Frameworks/Python.framework/Versions/3.10/lib/python3.10/site-packages/tensorflow/python/util/traceback_utils.py\u001b[0m in \u001b[0;36merror_handler\u001b[0;34m(*args, **kwargs)\u001b[0m\n\u001b[1;32m    148\u001b[0m     \u001b[0mfiltered_tb\u001b[0m \u001b[0;34m=\u001b[0m \u001b[0;32mNone\u001b[0m\u001b[0;34m\u001b[0m\u001b[0;34m\u001b[0m\u001b[0m\n\u001b[1;32m    149\u001b[0m     \u001b[0;32mtry\u001b[0m\u001b[0;34m:\u001b[0m\u001b[0;34m\u001b[0m\u001b[0;34m\u001b[0m\u001b[0m\n\u001b[0;32m--> 150\u001b[0;31m       \u001b[0;32mreturn\u001b[0m \u001b[0mfn\u001b[0m\u001b[0;34m(\u001b[0m\u001b[0;34m*\u001b[0m\u001b[0margs\u001b[0m\u001b[0;34m,\u001b[0m \u001b[0;34m**\u001b[0m\u001b[0mkwargs\u001b[0m\u001b[0;34m)\u001b[0m\u001b[0;34m\u001b[0m\u001b[0;34m\u001b[0m\u001b[0m\n\u001b[0m\u001b[1;32m    151\u001b[0m     \u001b[0;32mexcept\u001b[0m \u001b[0mException\u001b[0m \u001b[0;32mas\u001b[0m \u001b[0me\u001b[0m\u001b[0;34m:\u001b[0m\u001b[0;34m\u001b[0m\u001b[0;34m\u001b[0m\u001b[0m\n\u001b[1;32m    152\u001b[0m       \u001b[0mfiltered_tb\u001b[0m \u001b[0;34m=\u001b[0m \u001b[0m_process_traceback_frames\u001b[0m\u001b[0;34m(\u001b[0m\u001b[0me\u001b[0m\u001b[0;34m.\u001b[0m\u001b[0m__traceback__\u001b[0m\u001b[0;34m)\u001b[0m\u001b[0;34m\u001b[0m\u001b[0;34m\u001b[0m\u001b[0m\n",
      "\u001b[0;32m/Library/Frameworks/Python.framework/Versions/3.10/lib/python3.10/site-packages/tensorflow/python/eager/polymorphic_function/polymorphic_function.py\u001b[0m in \u001b[0;36m__call__\u001b[0;34m(self, *args, **kwds)\u001b[0m\n\u001b[1;32m    892\u001b[0m \u001b[0;34m\u001b[0m\u001b[0m\n\u001b[1;32m    893\u001b[0m       \u001b[0;32mwith\u001b[0m \u001b[0mOptionalXlaContext\u001b[0m\u001b[0;34m(\u001b[0m\u001b[0mself\u001b[0m\u001b[0;34m.\u001b[0m\u001b[0m_jit_compile\u001b[0m\u001b[0;34m)\u001b[0m\u001b[0;34m:\u001b[0m\u001b[0;34m\u001b[0m\u001b[0;34m\u001b[0m\u001b[0m\n\u001b[0;32m--> 894\u001b[0;31m         \u001b[0mresult\u001b[0m \u001b[0;34m=\u001b[0m \u001b[0mself\u001b[0m\u001b[0;34m.\u001b[0m\u001b[0m_call\u001b[0m\u001b[0;34m(\u001b[0m\u001b[0;34m*\u001b[0m\u001b[0margs\u001b[0m\u001b[0;34m,\u001b[0m \u001b[0;34m**\u001b[0m\u001b[0mkwds\u001b[0m\u001b[0;34m)\u001b[0m\u001b[0;34m\u001b[0m\u001b[0;34m\u001b[0m\u001b[0m\n\u001b[0m\u001b[1;32m    895\u001b[0m \u001b[0;34m\u001b[0m\u001b[0m\n\u001b[1;32m    896\u001b[0m       \u001b[0mnew_tracing_count\u001b[0m \u001b[0;34m=\u001b[0m \u001b[0mself\u001b[0m\u001b[0;34m.\u001b[0m\u001b[0mexperimental_get_tracing_count\u001b[0m\u001b[0;34m(\u001b[0m\u001b[0;34m)\u001b[0m\u001b[0;34m\u001b[0m\u001b[0;34m\u001b[0m\u001b[0m\n",
      "\u001b[0;32m/Library/Frameworks/Python.framework/Versions/3.10/lib/python3.10/site-packages/tensorflow/python/eager/polymorphic_function/polymorphic_function.py\u001b[0m in \u001b[0;36m_call\u001b[0;34m(self, *args, **kwds)\u001b[0m\n\u001b[1;32m    924\u001b[0m       \u001b[0;31m# In this case we have created variables on the first call, so we run the\u001b[0m\u001b[0;34m\u001b[0m\u001b[0;34m\u001b[0m\u001b[0m\n\u001b[1;32m    925\u001b[0m       \u001b[0;31m# defunned version which is guaranteed to never create variables.\u001b[0m\u001b[0;34m\u001b[0m\u001b[0;34m\u001b[0m\u001b[0m\n\u001b[0;32m--> 926\u001b[0;31m       \u001b[0;32mreturn\u001b[0m \u001b[0mself\u001b[0m\u001b[0;34m.\u001b[0m\u001b[0m_no_variable_creation_fn\u001b[0m\u001b[0;34m(\u001b[0m\u001b[0;34m*\u001b[0m\u001b[0margs\u001b[0m\u001b[0;34m,\u001b[0m \u001b[0;34m**\u001b[0m\u001b[0mkwds\u001b[0m\u001b[0;34m)\u001b[0m  \u001b[0;31m# pylint: disable=not-callable\u001b[0m\u001b[0;34m\u001b[0m\u001b[0;34m\u001b[0m\u001b[0m\n\u001b[0m\u001b[1;32m    927\u001b[0m     \u001b[0;32melif\u001b[0m \u001b[0mself\u001b[0m\u001b[0;34m.\u001b[0m\u001b[0m_variable_creation_fn\u001b[0m \u001b[0;32mis\u001b[0m \u001b[0;32mnot\u001b[0m \u001b[0;32mNone\u001b[0m\u001b[0;34m:\u001b[0m\u001b[0;34m\u001b[0m\u001b[0;34m\u001b[0m\u001b[0m\n\u001b[1;32m    928\u001b[0m       \u001b[0;31m# Release the lock early so that multiple threads can perform the call\u001b[0m\u001b[0;34m\u001b[0m\u001b[0;34m\u001b[0m\u001b[0m\n",
      "\u001b[0;32m/Library/Frameworks/Python.framework/Versions/3.10/lib/python3.10/site-packages/tensorflow/python/eager/polymorphic_function/tracing_compiler.py\u001b[0m in \u001b[0;36m__call__\u001b[0;34m(self, *args, **kwargs)\u001b[0m\n\u001b[1;32m    141\u001b[0m       (concrete_function,\n\u001b[1;32m    142\u001b[0m        filtered_flat_args) = self._maybe_define_function(args, kwargs)\n\u001b[0;32m--> 143\u001b[0;31m     return concrete_function._call_flat(\n\u001b[0m\u001b[1;32m    144\u001b[0m         filtered_flat_args, captured_inputs=concrete_function.captured_inputs)  # pylint: disable=protected-access\n\u001b[1;32m    145\u001b[0m \u001b[0;34m\u001b[0m\u001b[0m\n",
      "\u001b[0;32m/Library/Frameworks/Python.framework/Versions/3.10/lib/python3.10/site-packages/tensorflow/python/eager/polymorphic_function/monomorphic_function.py\u001b[0m in \u001b[0;36m_call_flat\u001b[0;34m(self, args, captured_inputs, cancellation_manager)\u001b[0m\n\u001b[1;32m   1755\u001b[0m         and executing_eagerly):\n\u001b[1;32m   1756\u001b[0m       \u001b[0;31m# No tape is watching; skip to running the function.\u001b[0m\u001b[0;34m\u001b[0m\u001b[0;34m\u001b[0m\u001b[0m\n\u001b[0;32m-> 1757\u001b[0;31m       return self._build_call_outputs(self._inference_function.call(\n\u001b[0m\u001b[1;32m   1758\u001b[0m           ctx, args, cancellation_manager=cancellation_manager))\n\u001b[1;32m   1759\u001b[0m     forward_backward = self._select_forward_and_backward_functions(\n",
      "\u001b[0;32m/Library/Frameworks/Python.framework/Versions/3.10/lib/python3.10/site-packages/tensorflow/python/eager/polymorphic_function/monomorphic_function.py\u001b[0m in \u001b[0;36mcall\u001b[0;34m(self, ctx, args, cancellation_manager)\u001b[0m\n\u001b[1;32m    379\u001b[0m       \u001b[0;32mwith\u001b[0m \u001b[0m_InterpolateFunctionError\u001b[0m\u001b[0;34m(\u001b[0m\u001b[0mself\u001b[0m\u001b[0;34m)\u001b[0m\u001b[0;34m:\u001b[0m\u001b[0;34m\u001b[0m\u001b[0;34m\u001b[0m\u001b[0m\n\u001b[1;32m    380\u001b[0m         \u001b[0;32mif\u001b[0m \u001b[0mcancellation_manager\u001b[0m \u001b[0;32mis\u001b[0m \u001b[0;32mNone\u001b[0m\u001b[0;34m:\u001b[0m\u001b[0;34m\u001b[0m\u001b[0;34m\u001b[0m\u001b[0m\n\u001b[0;32m--> 381\u001b[0;31m           outputs = execute.execute(\n\u001b[0m\u001b[1;32m    382\u001b[0m               \u001b[0mstr\u001b[0m\u001b[0;34m(\u001b[0m\u001b[0mself\u001b[0m\u001b[0;34m.\u001b[0m\u001b[0msignature\u001b[0m\u001b[0;34m.\u001b[0m\u001b[0mname\u001b[0m\u001b[0;34m)\u001b[0m\u001b[0;34m,\u001b[0m\u001b[0;34m\u001b[0m\u001b[0;34m\u001b[0m\u001b[0m\n\u001b[1;32m    383\u001b[0m               \u001b[0mnum_outputs\u001b[0m\u001b[0;34m=\u001b[0m\u001b[0mself\u001b[0m\u001b[0;34m.\u001b[0m\u001b[0m_num_outputs\u001b[0m\u001b[0;34m,\u001b[0m\u001b[0;34m\u001b[0m\u001b[0;34m\u001b[0m\u001b[0m\n",
      "\u001b[0;32m/Library/Frameworks/Python.framework/Versions/3.10/lib/python3.10/site-packages/tensorflow/python/eager/execute.py\u001b[0m in \u001b[0;36mquick_execute\u001b[0;34m(op_name, num_outputs, inputs, attrs, ctx, name)\u001b[0m\n\u001b[1;32m     50\u001b[0m   \u001b[0;32mtry\u001b[0m\u001b[0;34m:\u001b[0m\u001b[0;34m\u001b[0m\u001b[0;34m\u001b[0m\u001b[0m\n\u001b[1;32m     51\u001b[0m     \u001b[0mctx\u001b[0m\u001b[0;34m.\u001b[0m\u001b[0mensure_initialized\u001b[0m\u001b[0;34m(\u001b[0m\u001b[0;34m)\u001b[0m\u001b[0;34m\u001b[0m\u001b[0;34m\u001b[0m\u001b[0m\n\u001b[0;32m---> 52\u001b[0;31m     tensors = pywrap_tfe.TFE_Py_Execute(ctx._handle, device_name, op_name,\n\u001b[0m\u001b[1;32m     53\u001b[0m                                         inputs, attrs, num_outputs)\n\u001b[1;32m     54\u001b[0m   \u001b[0;32mexcept\u001b[0m \u001b[0mcore\u001b[0m\u001b[0;34m.\u001b[0m\u001b[0m_NotOkStatusException\u001b[0m \u001b[0;32mas\u001b[0m \u001b[0me\u001b[0m\u001b[0;34m:\u001b[0m\u001b[0;34m\u001b[0m\u001b[0;34m\u001b[0m\u001b[0m\n",
      "\u001b[0;31mKeyboardInterrupt\u001b[0m: "
     ]
    }
   ],
   "source": [
    "history = model.fit(X_train, y_train, batch_size=4, epochs=300, validation_data=(X_test, y_test),)\n",
    "# callbacks=[early_stop])"
   ]
  },
  {
   "cell_type": "code",
   "execution_count": 129,
   "id": "c6b37e69",
   "metadata": {
    "scrolled": false
   },
   "outputs": [
    {
     "name": "stdout",
     "output_type": "stream",
     "text": [
      "34/34 [==============================] - 0s 9ms/step - loss: 1.8527 - accuracy: 0.9204\n",
      "Accuracy of our model on Train data :  92.04 %\n"
     ]
    }
   ],
   "source": [
    "print(\"Accuracy of our model on Train data : \" , round(model.evaluate(X_train,y_train)[1]*100,2) , \"%\")"
   ]
  },
  {
   "cell_type": "code",
   "execution_count": 130,
   "id": "8fa772a5",
   "metadata": {},
   "outputs": [
    {
     "name": "stdout",
     "output_type": "stream",
     "text": [
      "12/12 [==============================] - 0s 11ms/step - loss: 11.7507 - accuracy: 0.4722\n",
      "Accuracy of our model on test data :  47.22 %\n"
     ]
    }
   ],
   "source": [
    "print(\"Accuracy of our model on test data : \" , round(model.evaluate(X_test,y_test)[1]*100,2) , \"%\")"
   ]
  },
  {
   "cell_type": "markdown",
   "id": "f9bd7bf9",
   "metadata": {},
   "source": [
    "0 --> Angry\n",
    "1 --> Disgust\n",
    "2 --> Fearful\n",
    "3 --> Happy\n",
    "4 --> Neutral\n",
    "5 --> Sad\n",
    "6 --> Surprised"
   ]
  },
  {
   "cell_type": "code",
   "execution_count": 74,
   "id": "1ddd89f2",
   "metadata": {},
   "outputs": [],
   "source": [
    "emotions = ['Angry', 'Disgust', 'Fearful', 'Happy', 'Neutral', 'Sad', 'Surprised']"
   ]
  },
  {
   "cell_type": "code",
   "execution_count": 34,
   "id": "b47c70b3",
   "metadata": {},
   "outputs": [],
   "source": [
    "input_file = '/Users/hongtan/Downloads/inside_out_clip.mp4'\n",
    "output_srt_file = \"/Users/hongtan/Desktop/sentimentsub/website/sentsub/media/captions/audio.srt\"\n",
    "output_wav_file = \"/Users/hongtan/Downloads/output.wav\"\n",
    "output_folder = \"/Users/hongtan/Desktop/segmented-audio/\"\n",
    "\n",
    "insane_input_file = '/Users/hongtan/Desktop/sentimentsub/speech-to-text/audio-test-files/insane.wav'"
   ]
  },
  {
   "cell_type": "code",
   "execution_count": 133,
   "id": "376aea79",
   "metadata": {
    "scrolled": true
   },
   "outputs": [
    {
     "name": "stdout",
     "output_type": "stream",
     "text": [
      "1/1 [==============================] - 0s 52ms/step\n"
     ]
    },
    {
     "data": {
      "text/plain": [
       "'Happy'"
      ]
     },
     "execution_count": 133,
     "metadata": {},
     "output_type": "execute_result"
    }
   ],
   "source": [
    "# Running model on files\n",
    "audio_file = output_folder + '8.wav'\n",
    "audio_features = extract_features(audio_file)\n",
    "audio_features = np.expand_dims(audio_features, axis=1)\n",
    "audio_features.shape\n",
    "test = np.array([audio_features])\n",
    "prediction = model.predict(test)\n",
    "emotions[np.argmax(prediction)]"
   ]
  },
  {
   "cell_type": "code",
   "execution_count": null,
   "id": "9440f2ed",
   "metadata": {},
   "outputs": [],
   "source": [
    "# Get SRT file\n",
    "import stable_whisper\n",
    "whisper_model = stable_whisper.load_model('base')\n",
    "result = whisper_model.transcribe(insane_input_file, fp16=False)\n",
    "result.to_srt_vtt(output_srt_file, word_level=False)"
   ]
  },
  {
   "cell_type": "code",
   "execution_count": null,
   "id": "0f761fe4",
   "metadata": {},
   "outputs": [],
   "source": [
    "# Segment mp4 file into multiple wav files according to SRT file\n",
    "from pydub import AudioSegment\n",
    "import os\n",
    "\n",
    "# Load audio file\n",
    "# sound = AudioSegment.from_file(input_file, format=\"mp4\")\n",
    "# sound = sound.set_channels(1)\n",
    "# sound.export(output_wav_file, format=\"wav\")\n",
    "audio = AudioSegment.from_wav(insane_input_file)\n",
    "\n",
    "# Parse SRT file\n",
    "with open(output_srt_file, \"r\") as f:\n",
    "    lines = f.readlines()\n",
    "    subtitles = []\n",
    "    for line in lines:\n",
    "        if \"-->\" in line:\n",
    "            start, end = line.strip().split(\" --> \")\n",
    "            start = start.split(\":\")\n",
    "            end = end.split(\":\")\n",
    "            start = int(start[0]) * 3600 + int(start[1]) * 60 + float(start[2].replace(\",\", \".\"))\n",
    "            end = int(end[0]) * 3600 + int(end[1]) * 60 + float(end[2].replace(\",\", \".\"))\n",
    "            subtitles.append((start * 1000, end * 1000))\n",
    "\n",
    "# Create output directory\n",
    "os.makedirs(output_folder, exist_ok=True)\n",
    "\n",
    "# Split audio file and export segments\n",
    "for i, (start, end) in enumerate(subtitles):\n",
    "    segment = audio[start:end]\n",
    "    segment.export(output_folder + str(i) + \".wav\", format=\"wav\")"
   ]
  },
  {
   "cell_type": "code",
   "execution_count": 85,
   "id": "fcb8f2e8",
   "metadata": {},
   "outputs": [
    {
     "data": {
      "text/plain": [
       "array([[2.8260222e-10, 9.2896829e-11, 4.2050896e-10, ..., 4.5503645e-09,\n",
       "        4.4549182e-09, 1.4514653e-10],\n",
       "       [2.8998912e-10, 8.9781432e-11, 2.7886515e-10, ..., 9.5182910e-09,\n",
       "        8.5331662e-09, 3.0126851e-10],\n",
       "       [2.8759428e-10, 9.5428880e-11, 3.9838616e-10, ..., 5.6757465e-09,\n",
       "        5.9396403e-09, 2.4168503e-10],\n",
       "       ...,\n",
       "       [1.7106594e-10, 5.6181677e-11, 6.7044946e-11, ..., 2.7391220e-10,\n",
       "        1.9915203e-10, 1.2955232e-11],\n",
       "       [4.4711543e-11, 1.6479249e-11, 1.9341759e-11, ..., 2.6777630e-10,\n",
       "        2.2013433e-10, 1.0244241e-11],\n",
       "       [1.6171938e-12, 7.4049718e-13, 3.2225056e-12, ..., 2.1249884e-11,\n",
       "        2.1303676e-11, 1.5618300e-12]], dtype=float32)"
      ]
     },
     "execution_count": 85,
     "metadata": {},
     "output_type": "execute_result"
    }
   ],
   "source": [
    "f = '/Users/hongtan/Downloads/archive/audio_speech_actors_01-24/Actor_01/03-01-01-01-01-01-01.wav'\n",
    "audio, sr = librosa.load(f)\n",
    "librosa.feature.melspectrogram(y=audio, sr=sr)"
   ]
  },
  {
   "cell_type": "code",
   "execution_count": 150,
   "id": "f79cb8f1",
   "metadata": {},
   "outputs": [
    {
     "data": {
      "text/plain": [
       "(128, 143)"
      ]
     },
     "execution_count": 150,
     "metadata": {},
     "output_type": "execute_result"
    }
   ],
   "source": [
    "D = np.abs(librosa.stft(audio))**2\n",
    "S = librosa.feature.melspectrogram(S=D, sr=sr)\n",
    "S.shape"
   ]
  },
  {
   "cell_type": "code",
   "execution_count": 159,
   "id": "cb364b6b",
   "metadata": {},
   "outputs": [
    {
     "data": {
      "text/plain": [
       "(128, 143)"
      ]
     },
     "execution_count": 159,
     "metadata": {},
     "output_type": "execute_result"
    }
   ],
   "source": [
    "S = librosa.feature.melspectrogram(y=audio, sr=sr, n_mels=128, fmax=8000)\n",
    "S.shape"
   ]
  },
  {
   "cell_type": "code",
   "execution_count": 157,
   "id": "bdd79840",
   "metadata": {},
   "outputs": [
    {
     "data": {
      "text/plain": [
       "[Text(0.5, 1.0, 'Mel-frequency spectrogram')]"
      ]
     },
     "execution_count": 157,
     "metadata": {},
     "output_type": "execute_result"
    },
    {
     "data": {
      "image/png": "[encoded data removed]",
      "text/plain": [
       "<Figure size 432x288 with 2 Axes>"
      ]
     },
     "metadata": {
      "needs_background": "light"
     },
     "output_type": "display_data"
    }
   ],
   "source": [
    "fig, ax = plt.subplots()\n",
    "S_dB = librosa.power_to_db(S, ref=np.max)\n",
    "img = librosa.display.specshow(S_dB, x_axis='time',\n",
    "                         y_axis='mel', sr=sr,\n",
    "                         fmax=8000, ax=ax)\n",
    "fig.colorbar(img, ax=ax, format='%+2.0f dB')\n",
    "ax.set(title='Mel-frequency spectrogram')"
   ]
  },
  {
   "cell_type": "code",
   "execution_count": 86,
   "id": "b3d1af05",
   "metadata": {},
   "outputs": [
    {
     "data": {
      "image/png": "[encoded data removed]",
      "text/plain": [
       "<Figure size 720x288 with 2 Axes>"
      ]
     },
     "metadata": {
      "needs_background": "light"
     },
     "output_type": "display_data"
    }
   ],
   "source": [
    "import librosa\n",
    "import librosa.display\n",
    "import matplotlib.pyplot as plt\n",
    "import numpy as np\n",
    "\n",
    "# Load audio file\n",
    "audio_data, sr = librosa.load(f)\n",
    "\n",
    "# Compute mel spectrogram\n",
    "n_fft = 2048\n",
    "hop_length = 512\n",
    "n_mels = 128\n",
    "fmin = 20\n",
    "fmax = sr // 2\n",
    "S = librosa.feature.melspectrogram(y=audio_data, sr=sr, n_fft=n_fft,\n",
    "                                    hop_length=hop_length, n_mels=n_mels,\n",
    "                                    fmin=fmin, fmax=fmax)\n",
    "S_dB = librosa.power_to_db(S, ref=np.max)\n",
    "\n",
    "# Display mel spectrogram\n",
    "plt.figure(figsize=(10, 4))\n",
    "librosa.display.specshow(S_dB, x_axis='time', y_axis='mel', sr=sr,\n",
    "                         hop_length=hop_length, fmin=fmin, fmax=fmax)\n",
    "plt.colorbar(format='%+2.0f dB')\n",
    "plt.title('Mel-frequency spectrogram')\n",
    "plt.show()\n"
   ]
  },
  {
   "cell_type": "code",
   "execution_count": 90,
   "id": "d5c6c66f",
   "metadata": {},
   "outputs": [
    {
     "data": {
      "text/plain": [
       "array([-80.      , -80.      , -80.      , -80.      , -80.      ,\n",
       "       -80.      , -80.      , -79.369774, -80.      , -80.      ,\n",
       "       -80.      , -80.      , -80.      , -80.      , -80.      ,\n",
       "       -80.      , -80.      , -80.      , -80.      , -80.      ,\n",
       "       -80.      , -80.      , -80.      , -80.      , -80.      ,\n",
       "       -80.      , -80.      , -80.      , -80.      , -80.      ,\n",
       "       -80.      , -77.298096, -67.33882 , -64.64391 , -64.0981  ,\n",
       "       -63.394157, -62.189438, -56.746323, -53.956673, -53.473274,\n",
       "       -55.95214 , -52.256073, -52.02265 , -47.29535 , -45.413162,\n",
       "       -49.505936, -50.33159 , -50.48236 , -46.62728 , -43.799538,\n",
       "       -41.58745 , -43.004272, -47.728806, -45.395943, -46.720337,\n",
       "       -46.920067, -41.260956, -38.806267, -41.968483, -50.155937,\n",
       "       -48.44642 , -50.38253 , -50.521797, -50.11225 , -48.649734,\n",
       "       -45.02864 , -46.70234 , -49.071396, -53.96251 , -60.60869 ,\n",
       "       -52.947258, -48.846306, -49.92943 , -51.727295, -52.550865,\n",
       "       -55.790245, -57.0856  , -57.625824, -58.75905 , -58.67891 ,\n",
       "       -55.460556, -59.840652, -55.74388 , -51.365204, -47.865646,\n",
       "       -41.93432 , -40.406807, -47.591324, -55.07625 , -60.010445,\n",
       "       -56.730316, -50.84453 , -52.070496, -49.75656 , -51.69729 ,\n",
       "       -53.35221 , -51.220352, -49.42871 , -51.22265 , -53.682617,\n",
       "       -53.487663, -51.762672, -55.67003 , -54.531265, -56.296303,\n",
       "       -61.104973, -60.394447, -59.926575, -58.860847, -65.441086,\n",
       "       -63.988396, -65.399925, -62.742928, -62.82659 , -70.26858 ,\n",
       "       -74.811424, -72.34002 , -66.98606 , -70.945404, -69.143074,\n",
       "       -67.32734 , -66.966194, -62.79461 , -57.7939  , -56.701668,\n",
       "       -62.276443, -73.534035, -73.27874 , -71.81979 , -68.13374 ,\n",
       "       -69.259346, -74.72349 , -77.87647 , -72.38374 , -72.97925 ,\n",
       "       -80.      , -80.      , -80.      , -80.      , -80.      ,\n",
       "       -80.      , -80.      , -80.      ], dtype=float32)"
      ]
     },
     "execution_count": 90,
     "metadata": {},
     "output_type": "execute_result"
    }
   ],
   "source": [
    "S_dB[0]"
   ]
  },
  {
   "cell_type": "code",
   "execution_count": null,
   "id": "ad05ec9c",
   "metadata": {},
   "outputs": [],
   "source": []
  }
 ],
 "metadata": {
  "kernelspec": {
   "display_name": "Python 3 (ipykernel)",
   "language": "python",
   "name": "python3"
  },
  "language_info": {
   "codemirror_mode": {
    "name": "ipython",
    "version": 3
   },
   "file_extension": ".py",
   "mimetype": "text/x-python",
   "name": "python",
   "nbconvert_exporter": "python",
   "pygments_lexer": "ipython3",
   "version": "3.10.0"
  }
 },
 "nbformat": 4,
 "nbformat_minor": 5
}
